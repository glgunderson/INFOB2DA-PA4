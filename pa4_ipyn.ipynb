{
  "nbformat": 4,
  "nbformat_minor": 0,
  "metadata": {
    "colab": {
      "provenance": [],
      "name": "pa4.ipyn",
      "include_colab_link": true
    },
    "kernelspec": {
      "name": "python3",
      "display_name": "Python 3"
    },
    "language_info": {
      "name": "python"
    }
  },
  "cells": [
    {
      "cell_type": "markdown",
      "metadata": {
        "id": "view-in-github",
        "colab_type": "text"
      },
      "source": [
        "<a href=\"https://colab.research.google.com/github/glgunderson/INFOB2DA-PA4/blob/main/pa4_ipyn.ipynb\" target=\"_parent\"><img src=\"https://colab.research.google.com/assets/colab-badge.svg\" alt=\"Open In Colab\"/></a>"
      ]
    },
    {
      "cell_type": "markdown",
      "source": [
        "# **Dashboard Visualizations and Coordinated View Systems**\n",
        "## Practical Assignment 4 - INFOB2DA\n",
        "*Tobias Buiten & Grace Gunderson*\n"
      ],
      "metadata": {
        "id": "-9pK8jgXqZFn"
      }
    },
    {
      "cell_type": "code",
      "source": [
        "# Import Relevant Libraries for Level 2 Visualization\n",
        "import pandas as pd\n",
        "import numpy as np\n",
        "import matplotlib.pyplot as plt\n",
        "import seaborn as sns\n",
        "import plotly.express as px"
      ],
      "metadata": {
        "id": "nMtLaNkGQ56u"
      },
      "execution_count": null,
      "outputs": []
    },
    {
      "cell_type": "code",
      "execution_count": null,
      "metadata": {
        "id": "s8Mb7f6oAh5a"
      },
      "outputs": [],
      "source": [
        "# Download Dataset from GitHub Release & Unzip Large Dataset\n",
        "!curl -L -o DelayedFlights.zip \"https://github.com/glgunderson/INFOB2DA-PA4/releases/download/PA4.DATA/DelayedFlights.zip\"\n",
        "!unzip -o DelayedFlights.zip -d data\n",
        "\n",
        "import pandas as pd\n",
        "\n",
        "# Load Dataset\n",
        "df_raw = pd.read_csv('data/airlinedelaycauses_DelayedFlights.csv')\n",
        "\n",
        "# Copy Dataset for Preprocessing (Delayed Flights)\n",
        "df = df_raw.copy()\n",
        "\n",
        "# Copy Dataset for Comparison (Delayed vs. All Flights)\n",
        "df_all = df_raw.copy()\n",
        "\n",
        "# Preview Dataset\n",
        "df_raw.head()"
      ]
    },
    {
      "cell_type": "markdown",
      "source": [
        "## Dataset Overview\n",
        "\n",
        "### DOT’S Air Travel Consumer Report:\n",
        "The U.S. Department of Transportation’s (DOT) Bureau of Transportation Statistics (BTS) tracks the **on-time performance** of domestic flights operated by large air carriers.\n",
        "- DOT provides **monthly summary information** on the number of on-time, delayed, cancelled and diverted flights.\n",
        "- BTS collects details on the **causes of flight delays** and releases summary statistics and raw data.\n"
      ],
      "metadata": {
        "id": "AkQ4TcaqG2MV"
      }
    },
    {
      "cell_type": "markdown",
      "source": [
        "## Relevant Features\n",
        "\n",
        "Time-Related Features\n",
        "- `Month` (1-12) / `DayOfMonth` (1-31) / `DayOfWeek` (1-7) — calendar indicators for each flight.\n",
        "- `DepTime` / `ArrTime` — actual departure and arrival times (in HHMM format).\n",
        "- `CRSDepTime` / `CRSArrTime` — scheduled departure and arrival times (in HHMM format).\n",
        "- `DepHour` / `ArrHour` — derived from scheduled times, showing the hour of day (0–23) - *AFTER PREPROCESSING*\n",
        "\n",
        "Flight Details\n",
        "- `Distance` — flight distance in miles.\n",
        "  - `DistanceGroup` — categorized distance range (<500, 500–1000, etc.) - *AFTER PREPROCESSING*\n",
        "- `AirTime` — total time spent in the air (minutes).\n",
        "- `ActualElapsedTime` / `CRSElapsedTime` — actual vs. scheduled total flight durations (minutes).\n",
        "\n",
        "Delay Metrics\n",
        "- `DepDelay` / `ArrDelay` — minutes delayed at departure and arrival.\n",
        "  - `DepDelayHours` / `ArrDelayHours` — same delays converted to hours for easier interpretation - *AFTER PREPROCESSING*\n",
        "- `CarrierDelay` / `WeatherDelay` / `NASDelay` / `SecurityDelay` / LateAircraftDelay — minutes of delay attributed to specific causes.\n",
        "\n",
        "Operational Flags\n",
        "- `Cancelled` / `Diverted` — binary indicators (1 = yes, 0 = no).\n",
        "- `UniqueCarrier` — airline carrier code (e.g., AA, DL, UA).\n",
        "- `Origin` / `Dest` — airport codes for departure and arrival locations.\n"
      ],
      "metadata": {
        "id": "rsgYEMZauqDd"
      }
    },
    {
      "cell_type": "markdown",
      "source": [
        "## Summary Statistics"
      ],
      "metadata": {
        "id": "6wgAEROusSRb"
      }
    },
    {
      "cell_type": "code",
      "source": [
        "# Understand the dataset\n",
        "df_raw.info()\n",
        "df_raw.shape"
      ],
      "metadata": {
        "id": "3OT4xV2s1BYu"
      },
      "execution_count": null,
      "outputs": []
    },
    {
      "cell_type": "code",
      "source": [
        "# Basic Summary Statistics\n",
        "df_raw.describe().T"
      ],
      "metadata": {
        "id": "VOEncVI_KyfH"
      },
      "execution_count": null,
      "outputs": []
    },
    {
      "cell_type": "markdown",
      "source": [
        "### Understanding the Dataset\n",
        "The initial output upon loading the *full raw dataset* includes:\n",
        "- **1,936,758 rows (flights) x 30 columns (features)**\n",
        "- The columns consist of both numeric (`int64`, `float64`) and categorical (`object`) features, including:\n",
        "  - 14 float variables (e.g., `DepTime`, `ArrTime`, `DepDelay`, `ArrDelay`)\n",
        "  - 11 integer variables (e.g., `Year`, `Month`, `DayofWeek`, `FlightNum`)\n",
        "  - 5 object variables (e.g., `UniqueCarrier`, `Origin`, `Dest`)  \n",
        "\n",
        "According to PA4, the dataset *should* include:\n",
        "- Flight delay metrics for **1,247,486** different flights.\n",
        "- **30 different features**, both numerical and categorical.\n",
        "\n",
        "### Understanding the Record Discrepancy\n",
        "The difference between the ~1.94 million and ~1.25 million flight records is explained by *dataset scope*.\n",
        "- The full raw dataset (**1,936,758 rows**) includes **all scheduled flights** in 2008 - whether they were on time, delayed, cancelled, or diverted.\n",
        "- Only a subset of the flight records (**1,247,488 rows**) contain complete **delay-related data** (`CarrierDelay`, `WeatherDelay`, `NASDelay`, `SecurityDelay`, `LateAircraftDelay`).\n",
        "  - These represent flights that actually experienced a *delay event*, which is the primary focus of this data analysis.\n",
        "\n",
        "***As a result, subsequent preprocessing and visualizations are performed by isolating this ~1.25M delayed-flight subset to ensure meaningful data analysis.***"
      ],
      "metadata": {
        "id": "RtLnAJ0prNEN"
      }
    },
    {
      "cell_type": "markdown",
      "source": [
        "## Preprocessing"
      ],
      "metadata": {
        "id": "zvlI37DVIEFe"
      }
    },
    {
      "cell_type": "code",
      "source": [
        "# PREPROCESSING - DELAYED FLIGHT DATA (df)\n",
        "\n",
        "# 1. Drop redundant/irrelevant columns\n",
        "df = df.drop(columns=['Unnamed: 0', 'Year', 'FlightNum', 'TailNum', 'CancellationCode'], errors='ignore')\n",
        "\n",
        "# 2. Remove cancelled or diverted flights\n",
        "df = df[(df['Cancelled'] == 0) & (df['Diverted'] == 0)]\n",
        "\n",
        "# 3. Identify and define records with complete delay-cause data\n",
        "DelayCause = ['CarrierDelay', 'WeatherDelay', 'NASDelay', 'SecurityDelay', 'LateAircraftDelay']\n",
        "df = df.dropna(subset=DelayCause)\n",
        "\n",
        "# 4. Fill missing delay-cause values (NaN) with 0\n",
        "df[DelayCause] = df[DelayCause].fillna(0)\n",
        "\n",
        "# 5. Clip negative delay values (representing early arrivals) to 0\n",
        "df['ArrDelay'] = df['ArrDelay'].clip(lower=0)\n",
        "\n",
        "# 6. Derive new time-based features for later visualization\n",
        "df['DepHour'] = (df['DepTime'] // 100).astype(int)\n",
        "df['ArrHour'] = (df['ArrTime'] // 100).astype(int)\n",
        "\n",
        "# 7. Convert arrival/departure delays from minutes to hours\n",
        "df['ArrDelayHours'] = (df['ArrDelay'] / 60).astype('float64')\n",
        "df['DepDelayHours'] = (df['DepDelay'] / 60).astype('float64')\n",
        "\n",
        "# 8. Create distance categories (in miles)\n",
        "df['DistanceGroup'] = pd.cut(\n",
        "    df['Distance'],\n",
        "    bins=[0, 500, 1000, 2000, 3000, 5000],\n",
        "    labels=['<500', '500–1000', '1000–2000', '2000–3000', '3000–5000']\n",
        ")\n",
        "\n",
        "# 10. Reset DataFrame index to ensure clean row alignment\n",
        "df = df.reset_index(drop=True)\n",
        "\n",
        "# Verify structure after preprocessing\n",
        "df.info()\n",
        "df.shape"
      ],
      "metadata": {
        "id": "YcEdaqk-eyQQ"
      },
      "execution_count": null,
      "outputs": []
    },
    {
      "cell_type": "markdown",
      "source": [
        "## Data Preprocessing\n",
        "\n",
        "*Before visualizing flight delay trends, the dataset required preprocessing to ensure data analysis focuses only on valid, delayed flight records.*\n",
        "\n",
        "### 1. Removed redundant and irrelevant columns\n",
        "- The first column, `Unnamed: 0`, is an index column automatically generated during export and does not represent a meaningful feature.\n",
        "- Dropped `Year` since all records were from 2008 (constant value), offering no variance for analysis.\n",
        "- `FlightNum`, `TailNum`, and `CancellationCode` provide no meaningful information for data analysis of flight delays.\n",
        "\n",
        "### 2. Excluded cancelled or diverted flights\n",
        "- Removed flights where `Cancelled = 1` or `Diverted = 1`.  \n",
        "- These records do not have valid arrival/departure data, which is essential for delay analysis.\n",
        "- The focus of analysis is delayed flights, so this information is not relevant.\n",
        "\n",
        "### 3. Retained only records with complete delay-cause data\n",
        "- Filtered to include only rows where all five delay cause fields were present:  \n",
        "  `CarrierDelay`, `WeatherDelay`, `NASDelay`, `SecurityDelay`, `LateAircraftDelay`.\n",
        "- Define delay causes for consistent reference.\n",
        "- This isolates the ~1.25 million delayed-flight subset that contains full delay-cause information — the focus of this data analysis.\n",
        "\n",
        "### 4. Filled missing delay-cause values with zero\n",
        "- Any remaining `NaN` values in delay-cause columns were replaced with `0`\n",
        "- NaN indicated *no delay* from that cause (e.g., `WeatherDelay`).\n",
        "\n",
        "### 5. Clipped negative arrival delay values\n",
        "- Negative values in `ArrDelay` represent early arrivals (e.g., `-109` = 109 minutes early).  \n",
        "- To focus purely on delays, these were clipped to `0`, indicating no delay.  \n",
        "- `DepDelay` contained no negative values, so no adjustment was required.\n",
        "\n",
        "### 6. Derived new time-based features\n",
        "- Created `DepHour` and `ArrHour` by converting scheduled departure/arrival times (e.g., `1530`) to hour bins (e.g., `15`).  \n",
        "- This facilitates later visualization of delay patterns by time of day.\n",
        "\n",
        "### 7. Converted arrival and departure delays from minutes to hours\n",
        "- Created two new columns, ArrDelayHours and DepDelayHours, by dividing the delay values (in minutes) by 60.\n",
        "- This transformation makes large delay durations easier to interpret (e.g., 180 minutes → 3.0 hours).\n",
        "- Both columns were stored as floating-point values (float64) to preserve precision for visualizations and calculations.\n",
        "\n",
        "### 8. Created distance categories (DistanceGroup)\n",
        "- Grouped flight distances (in miles) into five categories to simplify comparison across flight lengths.\n",
        "- The new DistanceGroup column was created using pd.cut() with the following bins and labels: <500, 500–1000, 1000–2000, 2000–3000, 3000–5000.\n",
        "- This grouping allows visualizations to explore whether longer flights are more or less prone to delays.\n",
        "\n",
        "### 9. Reset DataFrame index\n",
        "- Reset the index after all filtering steps to maintain continuous row alignment."
      ],
      "metadata": {
        "id": "7TeENQfwAXq3"
      }
    },
    {
      "cell_type": "markdown",
      "source": [
        "### Preprocessing Summary\n",
        "After cleaning and filtering the dataset, the records were reduced from **1,936,758** total scheduled flights to **1,247,488** valid delayed-flight records.\n",
        "\n",
        "*This refined dataset now focuses exclusively on flights that experienced measurable delays, removing cancelled, diverted, or incomplete records.*\n",
        "- Dataset size reduced: from ~443 MB to ~277 MB\n",
        "- Features retained: 30 (including derived time-based and distance-group variables)\n",
        "- Delay cause completeness: All five causes (CarrierDelay, WeatherDelay, NASDelay, SecurityDelay, LateAircraftDelay) present for every record\n",
        "- Negative delay values clipped (early arrivals = 0 hours delay)\n",
        "- Delays converted from minutes to hours for interpretability\n",
        "- Added columns: DepHour, ArrHour, DepDelayHours, ArrDelayHours, DistanceGroup\n",
        "\n",
        "*The resulting dataset is now optimized for visual analysis of **when, why, and how long flights are delayed**, forming a clean basis for the dashboard visualizations.*\n"
      ],
      "metadata": {
        "id": "osmIiDUkzhvJ"
      }
    },
    {
      "cell_type": "code",
      "source": [
        "# PREPROCESSING — FULL FLIGHT DATA (df_all)\n",
        "# Includes all flights (on-time, cancelled, diverted)\n",
        "\n",
        "# 1. Drop unnecessary columns\n",
        "df = df.drop(columns=['Unnamed: 0', 'Year', 'FlightNum', 'TailNum', 'CancellationCode'], errors='ignore')\n",
        "\n",
        "# 2. Fill NaNs in delay-cause columns with 0 (on-time flights)\n",
        "df_all[DelayCause] = df_all[DelayCause].fillna(0)\n",
        "\n",
        "# 3. Convert delay columns to hours for consistency\n",
        "df_all['ArrDelayHours'] = (df_all['ArrDelay'] / 60).astype('float64')\n",
        "df_all['DepDelayHours'] = (df_all['DepDelay'] / 60).astype('float64')\n",
        "df_all[DelayCause] = df_all[DelayCause] / 60\n",
        "\n",
        "# 4. Add departure and arrival hour columns\n",
        "df_all['DepHour'] = (df_all['DepTime'] // 100).astype('Int64')\n",
        "df_all['ArrHour'] = (df_all['ArrTime'] // 100).astype('Int64')\n",
        "\n",
        "# 5. Define distance bins\n",
        "df_all['DistanceGroup'] = pd.cut(\n",
        "    df_all['Distance'],\n",
        "    bins=[0, 500, 1000, 2000, 3000, 5000],\n",
        "    labels=['<500', '500-1000', '1000-2000', '2000-3000', '3000-5000']\n",
        ")\n",
        "\n",
        "df_all.info()"
      ],
      "metadata": {
        "id": "Ox10orKP-LO4"
      },
      "execution_count": null,
      "outputs": []
    },
    {
      "cell_type": "markdown",
      "source": [
        "Applied preprocessing to full dataset for comparison to delayed flight data - to reveal trends specific to delayed flight data."
      ],
      "metadata": {
        "id": "5Cs9xCzdyHe4"
      }
    },
    {
      "cell_type": "markdown",
      "source": [
        "## Review Dataset"
      ],
      "metadata": {
        "id": "tIBNe7UurznH"
      }
    },
    {
      "cell_type": "code",
      "source": [
        "# Basic summary statistics after preprocessing\n",
        "df.describe().T"
      ],
      "metadata": {
        "id": "HOCq7FqEux7E"
      },
      "execution_count": null,
      "outputs": []
    },
    {
      "cell_type": "code",
      "source": [
        "print(f\"Raw data shape: {df_raw.shape}\")\n",
        "print(f\"Delayed flight data shape: {df.shape}\")\n",
        "print(f\"All flight data shape: {df_all.shape}\")\n",
        "print(f\"Rows without delay-cause data: {df_raw.shape[0] - df.shape[0]:,}\")"
      ],
      "metadata": {
        "id": "c3drNLZzthuk"
      },
      "execution_count": null,
      "outputs": []
    },
    {
      "cell_type": "markdown",
      "source": [
        "## Investigate Dataset"
      ],
      "metadata": {
        "id": "lSUilzxb7FNJ"
      }
    },
    {
      "cell_type": "code",
      "source": [
        "# Number of delayed flights due to each cause?\n",
        "(df[['CarrierDelay','WeatherDelay','NASDelay','SecurityDelay','LateAircraftDelay']] > 0).sum()"
      ],
      "metadata": {
        "id": "a_CkJu5GafL1"
      },
      "execution_count": null,
      "outputs": []
    },
    {
      "cell_type": "code",
      "source": [
        "# Delays greater than 24 hours?\n",
        "(df['ArrDelay'] > 1440).sum(), (df['DepDelay'] > 1440).sum(), (df['CarrierDelay'] > 1440).sum()"
      ],
      "metadata": {
        "id": "4niH3obqLE9u"
      },
      "execution_count": null,
      "outputs": []
    },
    {
      "cell_type": "code",
      "source": [
        "# Number of delayed departures/arrivals by hour\n",
        "plt.figure(figsize=(12,5))\n",
        "width = 0.4\n",
        "\n",
        "# Plot departure and arrival side-by-side instead of overlapping\n",
        "plt.bar(df.groupby('DepHour').size().index - width/2,\n",
        "        df.groupby('DepHour').size().values,\n",
        "        width=width, color='steelblue', label='Departure')\n",
        "\n",
        "plt.bar(df.groupby('ArrHour').size().index + width/2,\n",
        "        df.groupby('ArrHour').size().values,\n",
        "        width=width, color='lightblue', label='Arrival')\n",
        "\n",
        "# Visuals\n",
        "plt.title('Number of Delayed Flights by Hour (Departure vs Arrival)', weight='bold')\n",
        "plt.xlabel('Hour of Day')\n",
        "plt.ylabel('Number of Delayed Flights')\n",
        "plt.xticks(range(0, 24))\n",
        "plt.legend()\n",
        "plt.grid(alpha=0.3)\n",
        "plt.tight_layout()\n",
        "plt.show()"
      ],
      "metadata": {
        "id": "kC7VJXmIzaFq"
      },
      "execution_count": null,
      "outputs": []
    },
    {
      "cell_type": "code",
      "source": [
        "# Total vs average delays by hour?\n",
        "hourly_stats = df.groupby('DepHour').agg(\n",
        "    total_delays=('ArrDelayHours', 'count'),\n",
        "    avg_delay=('ArrDelayHours', 'mean')\n",
        ").reset_index()\n",
        "\n",
        "fig, axes = plt.subplots(1,2,figsize=(22,5), sharex=True)\n",
        "\n",
        "sns.barplot(x='DepHour', y='total_delays', data=hourly_stats,\n",
        "            color='skyblue', ax=axes[0])\n",
        "axes[0].set_title('Number of Delayed Flights by Hour')\n",
        "axes[0].set_ylabel('Number of Flights')\n",
        "\n",
        "sns.lineplot(x='DepHour', y='avg_delay', data=hourly_stats,\n",
        "             color='steelblue', marker='o', ax=axes[1])\n",
        "axes[1].set_title('Average Delay by Hour')\n",
        "axes[1].set_ylabel('Hours')\n",
        "\n",
        "for ax in axes:\n",
        "    ax.set_xlabel('Hour of Day (Departure)')\n",
        "    ax.set_xticks(range(0,24))\n",
        "sns.despine()\n",
        "plt.tight_layout()\n",
        "plt.show()"
      ],
      "metadata": {
        "id": "DHLqls1WawPe"
      },
      "execution_count": null,
      "outputs": []
    },
    {
      "cell_type": "code",
      "source": [
        "# Hourly trend for number of flights compared to delay?\n",
        "\n",
        "sns.set_style(\"whitegrid\")\n",
        "\n",
        "# Aggregate data by hour\n",
        "hourly_stats = df.groupby('DepHour').agg(\n",
        "    avg_delay=('ArrDelayHours', 'mean'),\n",
        "    total_delays=('ArrDelayHours', 'count')\n",
        ").reset_index()\n",
        "\n",
        "# Normalize both metrics to comparable scale\n",
        "hourly_stats['avg_delay_scaled'] = hourly_stats['avg_delay'] / hourly_stats['avg_delay'].max()\n",
        "hourly_stats['total_delays_scaled'] = (hourly_stats['total_delays'] / hourly_stats['total_delays'].max()) * -1\n",
        "\n",
        "plt.figure(figsize=(12,6))\n",
        "\n",
        "sns.barplot(data=hourly_stats, x='DepHour', y='total_delays_scaled',\n",
        "            color='steelblue', label='Number of Delayed Flights')\n",
        "sns.barplot(data=hourly_stats, x='DepHour', y='avg_delay_scaled',\n",
        "            color='skyblue', label='Average Delay Duration(Hours)')\n",
        "\n",
        "# Titles and labels\n",
        "plt.title('Opposing Trends: Flight Volume vs. Average Delay by Hour', weight='bold')\n",
        "plt.xlabel('Hour of Day (Departure)')\n",
        "plt.ylabel('')\n",
        "plt.yticks([])\n",
        "plt.legend(loc='upper right', fontsize=12)\n",
        "plt.show()"
      ],
      "metadata": {
        "id": "l2_9VopSPYq3"
      },
      "execution_count": null,
      "outputs": []
    },
    {
      "cell_type": "code",
      "source": [
        "# Distribution of delay duration by hour?\n",
        "\n",
        "sns.set_style(\"whitegrid\")\n",
        "\n",
        "plt.figure(figsize=(12,5))\n",
        "sns.boxplot(\n",
        "    data=df, x='DepHour', y='ArrDelayHours',\n",
        "    showfliers=False,\n",
        "    color='lightblue'\n",
        ")\n",
        "\n",
        "plt.title('Distribution of Arrival Delay Durations by Departure Hour', weight='bold')\n",
        "plt.xlabel('Hour of Day (Departure)')\n",
        "plt.ylabel('Arrival Delay Duration (Hours)')\n",
        "plt.tight_layout()\n",
        "plt.show()"
      ],
      "metadata": {
        "id": "tKCJwDKQQ3r1"
      },
      "execution_count": null,
      "outputs": []
    },
    {
      "cell_type": "markdown",
      "source": [
        "These visuals introduce the daily pattern of flight delays, showing how both severity and frequency change by hour of departure.\n",
        "- The boxplot shows that delays are longest and most variable in the evening hours, likely caused by flights carried over from the previous day.\n",
        "  - Delay durations stabilize during daytime hours but rise again in the late evening.\n",
        "- The bar chart reveals an inverse trend between flight volume and delay duration — as flight activity increases throughout the day, average delay times initially decrease before rising again as the system becomes congested.\n",
        "\n",
        "Key takeaway:\n",
        "\n",
        "Flight delays follow a clear daily rhythm — early-morning hours show the worst severity, while evening congestion amplifies frequency, creating cyclical system strain."
      ],
      "metadata": {
        "id": "RD4c7Txsiz3R"
      }
    },
    {
      "cell_type": "code",
      "source": [
        "hourly_total = df.groupby('DepHour')['ArrDelayHours'].sum().reset_index()\n",
        "hourly_total['CumulativeDelay'] = hourly_total['ArrDelayHours'].cumsum()\n",
        "\n",
        "plt.figure(figsize=(9,5))\n",
        "sns.lineplot(data=hourly_total, x='DepHour', y='CumulativeDelay', color='steelblue', marker='o')\n",
        "plt.title('Cumulative Build-Up of Total Delay Hours Throughout the Day', weight='bold')\n",
        "plt.xlabel('Hour of Day (Departure)')\n",
        "plt.ylabel('Cumulative Delay (Hours)')\n",
        "plt.tight_layout()\n",
        "plt.show()"
      ],
      "metadata": {
        "id": "2R_hEp42ZkrY"
      },
      "execution_count": null,
      "outputs": []
    },
    {
      "cell_type": "markdown",
      "source": [
        "Key Findings:\n",
        "- The majority of delayed flights occur during the daytime hours, reflecting the busiest hours for flight traffic.\n",
        "  - Delays tend to peak slightly later in the day, showing how early departure delays cause downstream congestion by evening (delay propagation).\n",
        "- While most delays occur during the day, nighttime flights experience longer and more unpredictable delays. Low traffic volume at night means that the few delays that occur are often severe.\n",
        "- The flights with the greatest delays appear to occur during evening hours in visualizations, although this may be skewed because of how few delays there are in comparison to the daytime.\n",
        "- Daytime delays are compact (consistent short delays) while early/late hours have extreme variability."
      ],
      "metadata": {
        "id": "LyfLBy9qKtOi"
      }
    },
    {
      "cell_type": "code",
      "source": [
        "#Percentage of flights delayed by hour?\n",
        "\n",
        "# Group by departure hour\n",
        "total_by_hour = df_all.groupby('DepHour').size().rename('TotalFlights')\n",
        "delayed_by_hour = df.groupby('DepHour').size().rename('DelayedFlights')\n",
        "\n",
        "# Merge into one table\n",
        "compare = pd.concat([total_by_hour, delayed_by_hour], axis=1).fillna(0)\n",
        "\n",
        "# Calculate percentage of flights delayed\n",
        "compare['PctDelayed'] = (compare['DelayedFlights'] / compare['TotalFlights']) * 100\n",
        "\n",
        "# Plot\n",
        "plt.figure(figsize=(12,6))\n",
        "plt.bar(compare.index, compare['PctDelayed'], color='steelblue')\n",
        "plt.title('Percentage of Flights Delayed by Hour of Departure', weight='bold')\n",
        "plt.xlabel('Hour of Day (Departure)')\n",
        "plt.ylabel('% of Flights Delayed')\n",
        "plt.xticks(range(0,25))\n",
        "plt.tight_layout()\n",
        "plt.show()\n",
        "\n",
        "# Summary stats\n",
        "overall_pct = (df.shape[0] / df_all.shape[0]) * 100\n",
        "print(f\"Overall, {overall_pct:.2f}% of flights in the dataset experienced a delay.\")"
      ],
      "metadata": {
        "id": "GFZhGw17B3ZF"
      },
      "execution_count": null,
      "outputs": []
    },
    {
      "cell_type": "markdown",
      "source": [
        "This chart shows how the likelihood of flight delays changes throughout the day.\n",
        "- Flights departing in the evening face the highest delay percentages, often exceeding 80–90%.\n",
        "- Delays drop sharply around 5–6 AM, aligning with the start of a new flight cycle, before gradua- lly increasing again throughout the day.\n",
        "- By afternoon, over 60% of flights experience some delay, reflecting system congestion and delay propagation as the day progresses.\n",
        "- Overall, 64.4% of all flights in the dataset experienced a delay.\n",
        "\n",
        "Key takeaway:\n",
        "\n",
        "Delays accumulate as the day unfolds — evening flights are most likely to depart behind schedule, while early-morning flights remain the most punctual.\n"
      ],
      "metadata": {
        "id": "OV7Oqyk76E8w"
      }
    },
    {
      "cell_type": "code",
      "source": [
        "# Total number of flights vs. flights delayed?\n",
        "\n",
        "# Group by departure hour\n",
        "total_by_hour = df_all.groupby('DepHour').size().rename('TotalFlights')\n",
        "delayed_by_hour = df.groupby('DepHour').size().rename('DelayedFlights')\n",
        "\n",
        "# Merge datasets\n",
        "compare = pd.concat([total_by_hour, delayed_by_hour], axis=1).fillna(0)\n",
        "\n",
        "# Plot both on same chart\n",
        "plt.figure(figsize=(12,6))\n",
        "plt.bar(compare.index - 0.2, compare['TotalFlights'], width=0.4, color='lightblue', label='Total Flights')\n",
        "plt.bar(compare.index + 0.2, compare['DelayedFlights'], width=0.4, color='steelblue', label='Delayed Flights')\n",
        "\n",
        "plt.title('Total vs Delayed Flights by Hour of Departure', weight='bold')\n",
        "plt.xlabel('Hour of Day (Departure)')\n",
        "plt.ylabel('Number of Flights')\n",
        "plt.xticks(range(0, 24))\n",
        "plt.legend()\n",
        "plt.tight_layout()\n",
        "plt.show()"
      ],
      "metadata": {
        "id": "2PVc8VXwEjy7"
      },
      "execution_count": null,
      "outputs": []
    },
    {
      "cell_type": "markdown",
      "source": [
        "This chart compares the total number of flights scheduled versus the number of flights delayed for each hour of the day.\n",
        "- Total flights (light blue) increase steadily throughout the morning, peaking during mid-to-late afternoon (15:00–19:00) when air traffic is highest.\n",
        "- Delayed flights (dark blue) follow a similar trend, with the highest number of delays occurring during these peak traffic hours.\n",
        "- However, despite fewer flights overnight, delays are still present — showing that late-night flights experience a disproportionately high share of delays relative to total flights.\n",
        "\n",
        "Key takeaway:\n",
        "\n",
        "The busiest hours account for most total delays due to volume, but evening flights (after 22:00) remain at higher risk per flight, indicating persistent operational bottlenecks at the end of the day.\n"
      ],
      "metadata": {
        "id": "PBLIGXcFkBAM"
      }
    },
    {
      "cell_type": "code",
      "source": [
        "# Calculate total and delayed flights per airline\n",
        "total_by_airline = df_all.groupby('UniqueCarrier').size()\n",
        "delayed_by_airline = df.groupby('UniqueCarrier').size()\n",
        "\n",
        "# Calculate % of flights delayed\n",
        "delay_percent = (delayed_by_airline / total_by_airline * 100).sort_values(ascending=False)\n",
        "\n",
        "# Plot\n",
        "plt.figure(figsize=(10,5))\n",
        "sns.barplot(x=delay_percent.index, y=delay_percent.values, color='steelblue')\n",
        "\n",
        "plt.title('Percentage of Flights Delayed by Airline', weight='bold')\n",
        "plt.xlabel('Airline')\n",
        "plt.ylabel('% of Flights Delayed')\n",
        "plt.axhline(delay_percent.mean(), color='midnightblue', linestyle='--', alpha=0.7)\n"
      ],
      "metadata": {
        "id": "MLfbCtg462mS"
      },
      "execution_count": null,
      "outputs": []
    },
    {
      "cell_type": "code",
      "source": [
        "# Percentage of flights delayed by airline?\n",
        "# Map airline codes to names\n",
        "airline_names = {\n",
        "    'AA': 'American',\n",
        "    'AS': 'Alaska',\n",
        "    'B6': 'JetBlue',\n",
        "    'CO': 'Continental',\n",
        "    'DL': 'Delta',\n",
        "    'EV': 'ExpressJet',\n",
        "    'F9': 'Frontier',\n",
        "    'FL': 'AirTran',\n",
        "    'HA': 'Hawaiian',\n",
        "    'MQ': 'American Eagle',\n",
        "    'NW': 'Northwest',\n",
        "    'OH': 'Comair',\n",
        "    'OO': 'SkyWest',\n",
        "    'UA': 'United',\n",
        "    'US': 'US Airways',\n",
        "    'WN': 'Southwest',\n",
        "    'XE': 'ExpressJet (XE)',\n",
        "    'YV': 'Mesa',\n",
        "    'AQ': 'Aloha'\n",
        "}\n",
        "\n",
        "# Replace airline codes with names\n",
        "delay_percent_named = delay_percent.rename(index=airline_names)\n",
        "\n",
        "# Plot\n",
        "plt.figure(figsize=(12,5))\n",
        "sns.barplot(x=delay_percent_named.index, y=delay_percent_named.values, color='steelblue')\n",
        "\n",
        "plt.title('Percentage of Flights Delayed by Airline', weight='bold')\n",
        "plt.xlabel('Airline')\n",
        "plt.ylabel('% of Flights Delayed')\n",
        "plt.xticks(rotation=45, ha='right')\n",
        "plt.tight_layout()\n",
        "plt.show()"
      ],
      "metadata": {
        "id": "0qNDRUdO8MW7"
      },
      "execution_count": null,
      "outputs": []
    },
    {
      "cell_type": "markdown",
      "source": [
        "This visualization compares each airline’s operational reliability, showing the percentage of all flights (from df_all) that experienced a delay (in df):\n",
        "- Mesa (YV) and Comair (OH) have the highest share of delayed flights — over 70% of their total operations.\n",
        "- Southwest (WN) and Aloha (AQ) maintain the lowest proportion of delays, under 55%.\n",
        "- Major national carriers like American, Delta, and United fall near the middle, reflecting moderate but consistent congestion across their large networks.\n",
        "\n",
        "Key takeaway:\n",
        "\n",
        "Regional and connector airlines tend to experience more frequent delays, while large network carriers maintain more stable on-time performance overall.\n"
      ],
      "metadata": {
        "id": "6S2xrpWU9FIX"
      }
    },
    {
      "cell_type": "code",
      "source": [
        "# Flights delayed by month and day of week?\n",
        "df_all['Month'] = df_all['Month'].astype(int)\n",
        "df_all['DayOfWeek'] = df_all['DayOfWeek'].astype(int)\n",
        "df['Month'] = df['Month'].astype(int)\n",
        "df['DayOfWeek'] = df['DayOfWeek'].astype(int)\n",
        "\n",
        "# All x Delayed\n",
        "total = df_all.groupby(['Month','DayOfWeek']).size()\n",
        "delayed = df.groupby(['Month','DayOfWeek']).size()\n",
        "\n",
        "# 1–12 x 1–7\n",
        "p = (delayed / total * 100).unstack().reindex(\n",
        "    index=range(1,13), columns=range(1,8)\n",
        ")\n",
        "\n",
        "# Labels\n",
        "month_map = {1:'Jan',2:'Feb',3:'Mar',4:'Apr',5:'May',6:'Jun',\n",
        "             7:'Jul',8:'Aug',9:'Sep',10:'Oct',11:'Nov',12:'Dec'}\n",
        "dow_map   = {1:'Mon',2:'Tue',3:'Wed',4:'Thu',5:'Fri',6:'Sat',7:'Sun'}\n",
        "\n",
        "p = p.rename(index=month_map, columns=dow_map)\n",
        "\n",
        "# Heatmap\n",
        "plt.figure(figsize=(10,6))\n",
        "sns.heatmap(p, cmap='YlGnBu', annot=True, fmt='.1f',\n",
        "            cbar_kws={'label':'% of Flights Delayed'},\n",
        "            xticklabels=True, yticklabels=True)\n",
        "plt.title('Percentage of All Flights Delayed by Month and Day of Week', weight='bold')\n",
        "plt.xlabel('Day of Week'); plt.ylabel('Month')\n",
        "plt.tight_layout(); plt.show()"
      ],
      "metadata": {
        "id": "7TKe6HWXB4BI"
      },
      "execution_count": null,
      "outputs": []
    },
    {
      "cell_type": "markdown",
      "source": [
        "This heatmap shows how the likelihood of flight delays varies throughout the year and across different days of the week. By combining both month and weekday dimensions, it highlights seasonal and weekly patterns in overall delay frequency.\n",
        "\n",
        "Key Insights:\n",
        "- Highest delay rates occur in winter months (Dec, Jan-Feb) — likely due to holiday travel traffic.\n",
        "- Weekdays show slightly lower delay percentages, reflecting more stable business-travel patterns.\n",
        "- Weekends (Fri–Sun) and holiday months show increased delays, aligning with peak leisure travel and congestion at major airports.\n",
        "- Summer months (Jun–Aug) have moderate but consistent delay levels, possibly due to higher flight volumes and air traffic congestion."
      ],
      "metadata": {
        "id": "SjQkUmUIEbKP"
      }
    },
    {
      "cell_type": "code",
      "source": [
        "# Flights delayed by departure hour + weekday?\n",
        "total_hourly = df_all.groupby(['DepHour', 'DayOfWeek']).size()\n",
        "delayed_hourly = df.groupby(['DepHour', 'DayOfWeek']).size()\n",
        "\n",
        "# Percentage delayed\n",
        "delay_percent_hourly = (delayed_hourly / total_hourly * 100).unstack()\n",
        "\n",
        "# Map weekday numbers to names (1–7)\n",
        "dow_map = {1:'Mon', 2:'Tue', 3:'Wed', 4:'Thu', 5:'Fri', 6:'Sat', 7:'Sun'}\n",
        "delay_percent_hourly.columns = delay_percent_hourly.columns.map(dow_map)\n",
        "\n",
        "# Reorder hours so the day starts at 5 AM and wraps to 4 AM\n",
        "hour_order = list(range(5, 25)) + list(range(0, 5))\n",
        "delay_percent_hourly = delay_percent_hourly.reindex(hour_order)\n",
        "\n",
        "# Plot\n",
        "plt.figure(figsize=(10,8))\n",
        "sns.heatmap(delay_percent_hourly,\n",
        "            cmap='YlGnBu',\n",
        "            annot=True, fmt='.1f',\n",
        "            cbar_kws={'label':'% of Flights Delayed'})\n",
        "\n",
        "plt.title('Percentage of Flights Delayed by Hour and Day of Week', weight='bold')\n",
        "plt.xlabel('Day of Week')\n",
        "plt.ylabel('Hour of Day (Departure)')\n",
        "plt.tight_layout()\n",
        "plt.show()"
      ],
      "metadata": {
        "id": "Gha3y8EcDXcC"
      },
      "execution_count": null,
      "outputs": []
    },
    {
      "cell_type": "markdown",
      "source": [
        "This heatmap shows how flight delay frequency varies throughout the day and across each day of the week. It reveals patterns tied to daily flight volume, air-traffic congestion, and operational timing.\n",
        "\n",
        "Key Insights:\n",
        "- Evening hours have the highest percentage of delays, though this is partly due to a smaller number of total flights—so each delay weighs more heavily on the percentage.\n",
        "- Morning to early afternoon (5:00–14:00) shows the lowest proportion of delays, reflecting smoother operations and lower congestion.\n",
        "- As the day progresses hours, delay percentages rise again, as delays accumulate and propagate through the day - this pattern is consistent across all days of the week."
      ],
      "metadata": {
        "id": "FZEwRv5SGeO4"
      }
    },
    {
      "cell_type": "code",
      "source": [
        "# Total delay impact by airline?\n",
        "\n",
        "# Group by airline and month for total delay counts\n",
        "delays_by_airline_month = df.groupby(['UniqueCarrier', 'Month']).size().unstack(fill_value=0)\n",
        "\n",
        "# Convert to percentage of total delays by month\n",
        "delay_percent_airline_month = delays_by_airline_month.div(delays_by_airline_month.sum(axis=0), axis=1) * 100\n",
        "\n",
        "# Month labels\n",
        "month_labels = ['Jan','Feb','Mar','Apr','May','Jun','Jul','Aug','Sep','Oct','Nov','Dec']\n",
        "delay_percent_airline_month.columns = month_labels\n",
        "\n",
        "# Plot heatmap\n",
        "plt.figure(figsize=(10,6))\n",
        "sns.heatmap(delay_percent_airline_month,\n",
        "            cmap='YlGnBu',\n",
        "            annot=True, fmt='.1f',\n",
        "            cbar_kws={'label':'% of Total Delays (by Month)'})\n",
        "\n",
        "plt.title('Percentage of Total Delays by Airline and Month', weight='bold')\n",
        "plt.xlabel('Month')\n",
        "plt.ylabel('Airline')\n",
        "plt.tight_layout()\n",
        "plt.show()"
      ],
      "metadata": {
        "id": "-js8uCKvI2QW"
      },
      "execution_count": null,
      "outputs": []
    },
    {
      "cell_type": "markdown",
      "source": [
        "- Southwest (WN) consistently accounts for the largest share of delays year-round, often contributing 15–19% of all total delay minutes each month.\n",
        "- American (AA), United (UA), SkyWest (OO), and Envoy (MQ) are also major contributors, especially during spring and summer, suggesting operational strain during peak travel periods.\n",
        "- Smaller regional carriers (e.g., HA, AQ) barely register — meaning their total delay contribution is minimal even when their own rates might be high.\n",
        "- There’s no single month when one airline dominates — rather, total delays are spread across major players, aligning with industry-wide congestion cycles.\t•\tSouthwest (WN) consistently accounts for the largest share of delays year-round, often contributing 15–19% of all total delay minutes each month.\n",
        "- American (AA), SkyWest (OO), and Envoy (MQ) are also major contributors, especially during spring and summer, suggesting operational strain during peak travel periods.\n",
        "- Smaller regional carriers (e.g., HA, AQ) barely register — meaning their total delay contribution is minimal even when their own rates might be high.\n",
        "- There’s no single month when one airline dominates — rather, total delays are spread across major players, aligning with industry-wide congestion cycles."
      ],
      "metadata": {
        "id": "0mXgqzspJZ8A"
      }
    },
    {
      "cell_type": "code",
      "source": [
        "# Percentage of each airline's flights delayed per month - airline reliability?\n",
        "\n",
        "# Total flights per airline per month\n",
        "total_by_airline_month = df_all.groupby(['UniqueCarrier', 'Month']).size().unstack(fill_value=0)\n",
        "\n",
        "# Delayed flights per airline per month\n",
        "delayed_by_airline_month = df.groupby(['UniqueCarrier', 'Month']).size().unstack(fill_value=0)\n",
        "\n",
        "# Calculate % of that airline's flights delayed each month\n",
        "delay_rate_airline_month = (delayed_by_airline_month / total_by_airline_month * 100).fillna(0)\n",
        "\n",
        "# Month labels\n",
        "month_labels = ['Jan','Feb','Mar','Apr','May','Jun','Jul','Aug','Sep','Oct','Nov','Dec']\n",
        "delay_rate_airline_month.columns = month_labels\n",
        "\n",
        "# Plot heatmap\n",
        "plt.figure(figsize=(10,6))\n",
        "sns.heatmap(delay_rate_airline_month,\n",
        "            cmap='YlGnBu',\n",
        "            annot=True, fmt='.1f',\n",
        "            cbar_kws={'label':'% of Airline Flights Delayed'})\n",
        "\n",
        "plt.title('Monthly Reliability: % of Flights Delayed by Airline', weight='bold')\n",
        "plt.xlabel('Month')\n",
        "plt.ylabel('Airline')\n",
        "plt.tight_layout()\n",
        "plt.show()"
      ],
      "metadata": {
        "id": "w1c4x18VJ-5f"
      },
      "execution_count": null,
      "outputs": []
    },
    {
      "cell_type": "code",
      "source": [
        "# Total flight volume by airline?\n",
        "total_flights = df_all['UniqueCarrier'].value_counts().sort_values(ascending=False)\n",
        "\n",
        "plt.figure(figsize=(10,5))\n",
        "sns.barplot(x=total_flights.index, y=total_flights.values, color='steelblue')\n",
        "plt.title('Total Number of Flights per Airline (All Year)', weight='bold')\n",
        "plt.xlabel('Airline')\n",
        "plt.ylabel('Total Flights')\n",
        "plt.xticks(rotation=45)\n",
        "plt.tight_layout()\n",
        "plt.show()"
      ],
      "metadata": {
        "id": "3_sbVZd9LW2t"
      },
      "execution_count": null,
      "outputs": []
    },
    {
      "cell_type": "markdown",
      "source": [
        "Although Southwest Airlines (WN) appears to cause the largest share of total U.S. delay minutes, this chart reveals why:\n",
        "- Southwest operates far more flights than any other airline — nearly double the next largest carrier.\n",
        "- Because of this enormous volume, even a moderate delay rate (like 60–70%) creates the highest overall delay impact across the country.\n",
        "- In contrast, smaller regional carriers (like EV, YV, or 9E) may have higher delay percentages but contribute little to the total because they operate fewer flights.\n",
        "\n",
        "**Total delay volume explains disproportionate delay impact.**"
      ],
      "metadata": {
        "id": "URvfwn0XLqRg"
      }
    },
    {
      "cell_type": "code",
      "source": [
        "# Total flights and contribution to total delay by airline?\n",
        "fig, ax1 = plt.subplots(figsize=(10,6))\n",
        "\n",
        "# Bars = Total Flights (scale)\n",
        "sns.barplot(x=total_flights.index, y=total_flights.values, color='lightblue', alpha=0.7, label='Total Flights', ax=ax1)\n",
        "ax1.set_ylabel('Total Flights', color='steelblue')\n",
        "ax1.tick_params(axis='y', labelcolor='steelblue')\n",
        "\n",
        "# Line = % of Total Delays (impact)\n",
        "ax2 = ax1.twinx()\n",
        "sns.lineplot(x=delay_share.index, y=delay_share.values, color='darkred', marker='o', label='% of Total Delays', ax=ax2)\n",
        "ax2.set_ylabel('% of Total Delays', color='darkred')\n",
        "ax2.tick_params(axis='y', labelcolor='darkred')\n",
        "\n",
        "# Visuals\n",
        "plt.title('Airline Scale vs Delay Impact', weight='bold')\n",
        "ax1.set_xlabel('Airline')\n",
        "ax1.legend(loc='upper left')\n",
        "ax2.legend(loc='upper right')\n",
        "plt.tight_layout()\n",
        "plt.show()"
      ],
      "metadata": {
        "id": "2WlACm40NdbH"
      },
      "execution_count": null,
      "outputs": []
    },
    {
      "cell_type": "code",
      "source": [
        "# Average delay duration (hours) by airline?\n",
        "avg_delay_by_airline = df.groupby('UniqueCarrier')['ArrDelayHours'].mean().sort_values(ascending=False)\n",
        "\n",
        "# Plot\n",
        "plt.figure(figsize=(10,5))\n",
        "sns.barplot(x=avg_delay_by_airline.index, y=avg_delay_by_airline.values, color='steelblue')\n",
        "\n",
        "plt.title('Average Arrival Delay Duration by Airline', weight='bold')\n",
        "plt.xlabel('Airline')\n",
        "plt.ylabel('Average Delay (Hours)')\n",
        "plt.xticks(rotation=45)\n",
        "plt.tight_layout()\n",
        "plt.show()"
      ],
      "metadata": {
        "id": "Q6AbI4jNPHJo"
      },
      "execution_count": null,
      "outputs": []
    },
    {
      "cell_type": "code",
      "source": [
        "# Total delay minutes by airline and cause?\n",
        "delay_causes = df.groupby('UniqueCarrier')[['CarrierDelay', 'WeatherDelay', 'NASDelay', 'SecurityDelay', 'LateAircraftDelay']].sum()\n",
        "\n",
        "# Percentage within each airline\n",
        "delay_cause_percent = delay_causes.div(delay_causes.sum(axis=1), axis=0) * 100\n",
        "\n",
        "# Plot as stacked bar chart\n",
        "plt.figure(figsize=(12,6))\n",
        "delay_cause_percent.plot(\n",
        "    kind='bar',\n",
        "    stacked=True,\n",
        "    colormap='tab20c',\n",
        "    width=0.8,\n",
        "    figsize=(12,6)\n",
        ")\n",
        "\n",
        "# Visuals\n",
        "plt.title('Breakdown of Delay Causes by Airline', weight='bold')\n",
        "plt.xlabel('Airline')\n",
        "plt.ylabel('% of Total Delay Minutes')\n",
        "plt.legend(title='Delay Cause', bbox_to_anchor=(1.05, 1), loc='upper left')\n",
        "plt.tight_layout()\n",
        "plt.show()"
      ],
      "metadata": {
        "id": "KdCcgK7SPZ9C"
      },
      "execution_count": null,
      "outputs": []
    },
    {
      "cell_type": "markdown",
      "source": [
        "### Delay Patterns by Cause, Distance, and Airline"
      ],
      "metadata": {
        "id": "0qchgXIocl2S"
      }
    },
    {
      "cell_type": "markdown",
      "source": [
        "Overview:\n",
        "- Carrier delays increase with flight distance and are most pronounced among airlines with higher distance operations (>2000 miles).\n",
        "- Late Aircraft delays dominate short-haul and high-frequency carriers.\n",
        "- Regional carriers (e.g., 9E, EV, MQ) show similar delay compositions due to their shared operational range (<1000 miles).\n",
        "- Distance category distributions correspond closely with each airline’s network scope as reflected in delay composition."
      ],
      "metadata": {
        "id": "wbsyLh32deXW"
      }
    },
    {
      "cell_type": "code",
      "source": [
        "# Total delay minutes per airline by cause?\n",
        "delay_causes = df.groupby('UniqueCarrier')[[ 'LateAircraftDelay', 'CarrierDelay', 'NASDelay', 'WeatherDelay', 'SecurityDelay']].sum()\n",
        "\n",
        "# Percentage of each airline’s total delay time\n",
        "delay_percent = delay_causes.div(delay_causes.sum(axis=1), axis=0) * 100\n",
        "\n",
        "# Heatmap\n",
        "plt.figure(figsize=(10,6))\n",
        "sns.heatmap(delay_percent,\n",
        "            cmap='YlGnBu',\n",
        "            annot=True, fmt='.1f',\n",
        "            cbar_kws={'label':'% of Airline Delay Minutes'},\n",
        ")\n",
        "\n",
        "plt.title('Percentage of Total Delay Minutes by Cause and Airline', weight='bold')\n",
        "plt.xlabel('Delay Cause')\n",
        "plt.ylabel('Airline')\n",
        "plt.tight_layout()\n",
        "plt.show()"
      ],
      "metadata": {
        "id": "BeJ9XLx7SPok"
      },
      "execution_count": null,
      "outputs": []
    },
    {
      "cell_type": "markdown",
      "source": [
        "- The majority of airline delays stem from late aircraft and carrier-related causes, highlighting that network ripple effects and operational inefficiencies drive most disruptions.\n",
        "- Late aircraft delays dominate larger carriers (AA, UA, WN), indicating that tight turnaround schedules magnify small disruptions.\n",
        "- Carrier delays are more prominent among regional and smaller airlines (YV, EV), suggesting limited resources for recovery.\n",
        "- Weather and NAS delays contribute less overall, underscoring that most delays arise from internal or network factors rather than uncontrollable events.\n",
        "\n",
        "Takeaway:\n",
        "Most U.S. flight delays are contagious rather than spontaneous — once a delay enters the system, it spreads through tightly packed flight schedules.\n",
        "\n",
        "Note:\n",
        "- `LateAircraftDelay` shows delays cascading through the system.\n",
        "- `CarrierDelay` hints at internal inefficieincies (maintenance, staffing, etc.).\n",
        "- `NASDelay` often reflects air traffic control or congestion issues."
      ],
      "metadata": {
        "id": "eFOjlVJMQEkA"
      }
    },
    {
      "cell_type": "code",
      "source": [
        "# Total delay minutes by cause and distance\n",
        "delay_by_cause_dist = df.groupby('DistanceGroup')[[ 'LateAircraftDelay', 'CarrierDelay', 'NASDelay', 'WeatherDelay', 'SecurityDelay']].sum()\n",
        "\n",
        "# Percent within each distance bin\n",
        "delay_by_cause_dist_pct = delay_by_cause_dist.div(delay_by_cause_dist.sum(axis=1), axis=0) * 100\n",
        "\n",
        "# Plot\n",
        "plt.figure(figsize=(8,8))\n",
        "sns.heatmap(delay_by_cause_dist_pct,\n",
        "            cmap='YlGnBu',\n",
        "            annot=True, fmt='.1f',\n",
        "            cbar_kws={'label':'% of Delay Minutes'},\n",
        "            linewidths=0.3, linecolor='white')\n",
        "\n",
        "plt.title('Distribution of Delay Causes by Flight Distance Category', weight='bold')\n",
        "plt.xlabel('Delay Cause')\n",
        "plt.ylabel('Distance Category (miles)')\n",
        "plt.tight_layout()\n",
        "plt.show()"
      ],
      "metadata": {
        "id": "OCchybjHTw5c"
      },
      "execution_count": null,
      "outputs": []
    },
    {
      "cell_type": "markdown",
      "source": [
        "Delay causes vary significantly with flight distance.\n",
        "- Shorter routes are most affected by late aircraft delays, reflecting network congestion and tight scheduling.\n",
        "- Medium-haul routes (1000–3000 mi) show a more even split between causes, indicating multiple interacting delay factors.\n",
        "- Long-haul flights (>3000 mi) are dominated by carrier-related delays, suggesting that maintenance, fueling, or operational factors play a larger role than propagation or air traffic.\n",
        "\n",
        "Takeaway:\n",
        "As flight distance increases, delays shift from system ripple effects (short flights) to carrier-specific operational challenges (long flights). This highlights different optimization priorities for airlines depending on route length."
      ],
      "metadata": {
        "id": "g4eq336zU4bI"
      }
    },
    {
      "cell_type": "code",
      "source": [
        "# Flights by airline and distance?\n",
        "\n",
        "# Normalize by airline\n",
        "flights_by_dist_pct = flights_by_dist.div(flights_by_dist.sum(axis=1), axis=0) * 100\n",
        "\n",
        "plt.figure(figsize=(10,6))\n",
        "sns.heatmap(flights_by_dist_pct,\n",
        "            cmap='YlGnBu',\n",
        "            annot=True, fmt='.1f',\n",
        "            cbar_kws={'label':'% of Airline Flights'},\n",
        "            )\n",
        "\n",
        "# Visuals\n",
        "plt.title('Flight Distribution by Airline and Distance Category', weight='bold')\n",
        "plt.xlabel('Distance Category (miles)')\n",
        "plt.ylabel('Airline')\n",
        "plt.tight_layout()\n",
        "plt.show()"
      ],
      "metadata": {
        "id": "zRC5h5M1XHlb"
      },
      "execution_count": null,
      "outputs": []
    },
    {
      "cell_type": "markdown",
      "source": [
        "*Each airline’s delay profile is shaped by its route structure.*\n",
        "- Regional carriers dominate short-haul operations (<500 mi), where quick turnarounds make them vulnerable to cascading delays.\n",
        "- Southwest Airlines (WN) maintains a high flight volume concentrated in short- and medium-haul routes (over 80%), explaining its large share of total U.S. delays despite relatively moderate delay rates.\n",
        "- Legacy carriers (e.g., AA, UA) balance domestic and long-haul routes, diversifying their delay exposure.\n",
        "- Geographically specialized airlines (Alaska, Hawaiian) display unique distance patterns reflecting limited route networks.\n",
        "  - HA and AQ have the greatest prevalence of carrier delays, as well as the greatest share of 2000-3000 mile flights.\n",
        "\n",
        "Takeaway:\n",
        "Route structure is a hidden driver of delay risk — airlines operating shorter, high-frequency routes are more prone to frequent but shorter delays, while long-haul carriers face fewer but more severe disruptions.\n",
        "\n"
      ],
      "metadata": {
        "id": "sA8AQBtdYmXo"
      }
    },
    {
      "cell_type": "markdown",
      "source": [
        "# **Visualization Dashboard**\n",
        "*visualizations from group presentation*\n",
        "\n"
      ],
      "metadata": {
        "id": "jyQF567pr6IU"
      }
    },
    {
      "cell_type": "markdown",
      "source": [
        "## **Delays by Hour**"
      ],
      "metadata": {
        "id": "iPNT43kP5Kro"
      }
    },
    {
      "cell_type": "code",
      "source": [
        "# Average Arrival and Departure Delays by Hour\n",
        "\n",
        "# Create bar plot\n",
        "plt.figure(figsize=(12,6))\n",
        "df.groupby('DepHour')[['ArrDelayHours', 'DepDelayHours']].mean().plot(\n",
        "    kind='bar',\n",
        "    ax=plt.gca(),\n",
        "    width=0.8,\n",
        "    edgecolor='none'\n",
        ")\n",
        "\n",
        "# Titles and labels\n",
        "plt.title('Average Arrival and Departure Delays by Hour', weight='bold')\n",
        "plt.xlabel('Hour of Day (Departure)')\n",
        "plt.ylabel('Average Delay (Hours)')\n",
        "plt.legend(['Arrival Delay', 'Departure Delay'], title='Flight Delay')\n",
        "\n",
        "# Visuals\n",
        "sns.set_style(\"whitegrid\")\n",
        "sns.set_palette(\"Blues_r\")\n",
        "sns.despine()\n",
        "plt.tight_layout()\n",
        "plt.show()"
      ],
      "metadata": {
        "id": "kL2WA_7N9KjV"
      },
      "execution_count": null,
      "outputs": []
    },
    {
      "cell_type": "markdown",
      "source": [
        "## **Delay Variability by Hour**"
      ],
      "metadata": {
        "id": "0T7h0Im-5RdP"
      }
    },
    {
      "cell_type": "code",
      "source": [
        "# Aggregate key hourly metrics\n",
        "hourly = df.groupby('DepHour').agg(\n",
        "    total_delays=('ArrDelayHours', 'count'),\n",
        "    median_delay=('ArrDelayHours', 'median'),\n",
        "    q1=('ArrDelayHours', lambda x: x.quantile(0.25)),\n",
        "    q3=('ArrDelayHours', lambda x: x.quantile(0.75))\n",
        ").reset_index()\n",
        "\n",
        "fig, ax1 = plt.subplots(figsize=(12,6))\n",
        "\n",
        "# Bars for total delayed flights\n",
        "ax1.bar(hourly['DepHour'], hourly['total_delays'],\n",
        "        color='steelblue', label='Number of Delayed Flights')\n",
        "ax1.set_ylabel('Number of Delayed Flights', color='steelblue')\n",
        "ax1.tick_params(axis='y', labelcolor='steelblue')\n",
        "\n",
        "# Line for median delay (hours)\n",
        "ax2 = ax1.twinx()\n",
        "ax2.plot(hourly['DepHour'], hourly['median_delay'],\n",
        "         color='black', linewidth=2.5, marker='o', label='Median Delay (Hours)')\n",
        "ax2.fill_between(hourly['DepHour'],\n",
        "                 hourly['q1'], hourly['q3'],\n",
        "                 color='black', alpha=0.15, label='Delay Variability (IQR)')\n",
        "ax2.set_ylabel('Delay Duration (Hours)', color='black')\n",
        "ax2.tick_params(axis='y', labelcolor='black')\n",
        "\n",
        "# Visuals\n",
        "plt.title('Daily Flight Delays: Frequency vs Severity by Hour of Departure', weight='bold')\n",
        "ax1.set_xlabel('Hour of Day (Departure)')\n",
        "ax1.legend(loc='upper left')\n",
        "ax2.legend(loc='upper right')\n",
        "sns.set_style(\"white\")\n",
        "plt.tight_layout()\n",
        "plt.show()"
      ],
      "metadata": {
        "id": "JqN3A9gFdWzV"
      },
      "execution_count": null,
      "outputs": []
    },
    {
      "cell_type": "markdown",
      "source": [
        "This visualization compares **how often flights are delayed** with **how long those delays last**  across each hour of the day.\n",
        "— Delays are most common during the daytime, peaking between 15:00–20:00, when overall air traffic is highest.\n",
        "- The median delay duration (in hours) reveals that, while delays are shorter on average during the day, they tend to increase again at night, when fewer flights are operating.\n",
        "- The shaded gray area indicates delay variability (IQR) — showing that late-night delays are less predictable, with a wider spread of delay lengths.\n",
        "\n",
        "Key takeaway:\n",
        "\n",
        "While most delays occur during busy daytime hours due to traffic volume, longer and more unpredictable delays tend to happen late at night — when fewer flights are available to absorb disruptions from earlier in the day.\n"
      ],
      "metadata": {
        "id": "Ggr1Pyk29i2G"
      }
    },
    {
      "cell_type": "markdown",
      "source": [
        "## **Daily/Hourly Delays**"
      ],
      "metadata": {
        "id": "_X1-K_Dds0GY"
      }
    },
    {
      "cell_type": "code",
      "source": [
        "# Average arrival delay by weekday and hour\n",
        "\n",
        "# Create pivot table\n",
        "pivot = df.pivot_table(\n",
        "    values='ArrDelayHours',\n",
        "    index='DepHour',       # rows = hour of day\n",
        "    columns='DayOfWeek',   # columns = day of week\n",
        "    aggfunc='mean'\n",
        ")\n",
        "\n",
        "# Rename day columns for clarity\n",
        "pivot.columns = ['Mon', 'Tue', 'Wed', 'Thu', 'Fri', 'Sat', 'Sun']\n",
        "\n",
        "# Plot heatmap\n",
        "plt.figure(figsize=(8,6))\n",
        "sns.heatmap(pivot, cmap='Blues', annot=False, cbar_kws={'label': 'Average Arrival Delay (hours)'})\n",
        "plt.title('Average Arrival Delay by Hour and Day of Week')\n",
        "plt.xlabel('Day of Week')\n",
        "plt.ylabel('Hour of Day')\n",
        "plt.show()"
      ],
      "metadata": {
        "id": "zky6WduTt1DZ"
      },
      "execution_count": null,
      "outputs": []
    },
    {
      "cell_type": "markdown",
      "source": [
        "This heatmap shows how average arrival delays (in hours) vary by both time of day and day of the week.\n",
        "- The darker areas represent longer average delays (up to 4 hours), while lighter areas indicate shorter or minimal delays.\n",
        "- Early morning hours (midnight–4 AM) consistently show the longest delays, suggesting residual effects from previous-day disruptions and overnight scheduling limits.\n",
        "- Daytime hours are mostly stable with shorter delays, reflecting higher traffic but more operational recovery capacity.\n",
        "- There are no major weekday-to-weekend differences.\n",
        "\n",
        "Key takeaway:\n",
        "\n",
        "Delays are driven more by time of day than day of week — evening flights experience the most severe delays due to limited recovery options and overnight schedule congestion.\n"
      ],
      "metadata": {
        "id": "GtaYBlOakiW3"
      }
    },
    {
      "cell_type": "markdown",
      "source": [
        "## **Hourly Delays**"
      ],
      "metadata": {
        "id": "aoN9u9ZCs0g-"
      }
    },
    {
      "cell_type": "code",
      "source": [
        "# Group delay causes by departure hour (values still in minutes)\n",
        "hourly_delays_hr = df.groupby('DepHour')[DelayCause].sum().reset_index()\n",
        "\n",
        "# Convert all delay cause totals from minutes to hours\n",
        "hourly_delays_hr[DelayCause] = hourly_delays_hr[DelayCause] / 60\n",
        "\n",
        "# Create interactive stacked area chart\n",
        "fig = px.area(\n",
        "    hourly_delays_hr,\n",
        "    x='DepHour',\n",
        "    y=DelayCause,\n",
        "    title='Hourly Distribution of Delay Causes',\n",
        "    labels={\n",
        "        'value': 'Total Delay (hours)',\n",
        "        'DepHour': 'Hour of Day (Departure)'\n",
        "    }\n",
        ")\n",
        "\n",
        "# Clean legend and axes formatting\n",
        "fig.update_layout(\n",
        "    legend_title_text='Cause of Delay',\n",
        "    xaxis=dict(\n",
        "        tickmode='linear',\n",
        "        dtick=1,  # show every hour (0–23)\n",
        "        title='Hour of Day (Departure)',\n",
        "        range=[0, 23]\n",
        "    ),\n",
        "    yaxis_title='Total Delay (hours)',\n",
        "    plot_bgcolor='white'\n",
        ")\n",
        "\n",
        "fig.show()"
      ],
      "metadata": {
        "id": "cVzkMjMY2mTn"
      },
      "execution_count": null,
      "outputs": []
    },
    {
      "cell_type": "markdown",
      "source": [
        "## **Daily/Monthly Delay Trends**"
      ],
      "metadata": {
        "id": "dRLiL9wvs08a"
      }
    },
    {
      "cell_type": "code",
      "source": [
        "# Average Arrival Delay by Month/Day\n",
        "\n",
        "# Pivot table: average arrival delay grouped by month and weekday\n",
        "pivot = df.pivot_table(\n",
        "    values='ArrDelayHours',\n",
        "    index='Month',        # months as rows\n",
        "    columns='DayOfWeek',  # weekdays as columns\n",
        "    aggfunc='mean'\n",
        ")\n",
        "\n",
        "# Replace numeric weekdays (1–7) with labels\n",
        "pivot.columns = ['Mon', 'Tue', 'Wed', 'Thu', 'Fri', 'Sat', 'Sun']\n",
        "\n",
        "# Replace numeric months (1–12) with short names\n",
        "month_labels = ['Jan', 'Feb', 'Mar', 'Apr', 'May', 'Jun',\n",
        "                'Jul', 'Aug', 'Sep', 'Oct', 'Nov', 'Dec']\n",
        "pivot.index = month_labels\n",
        "\n",
        "# Plot heatmap\n",
        "plt.figure(figsize=(9,6))\n",
        "sns.heatmap(pivot, cmap='Blues', annot=False, cbar_kws={'label': 'Avg Arrival Delay (hours)'})\n",
        "plt.title('Average Delay by Month and Day of Week')\n",
        "plt.xlabel('Day of Week')\n",
        "plt.ylabel('Month')\n",
        "plt.show()"
      ],
      "metadata": {
        "id": "YzMrivSot3dn"
      },
      "execution_count": null,
      "outputs": []
    },
    {
      "cell_type": "markdown",
      "source": [
        " This heatmap illustrates how average arrival delays fluctuate across both months of the year and days of the week.\n",
        "- Overall, delays remain fairly consistent throughout the year, averaging around 1 hour.\n",
        "August Sundays stand out with the highest average delays (~1.5 hours), likely reflecting peak summer travel demand and congested air traffic.\n",
        "- Winter months (December–February) also show slightly higher delays, consistent with weather-related disruptions.\n",
        "- Weekday variation is minimal, indicating that seasonal and operational factors have a greater impact than specific days of the week.\n",
        "\n",
        "Key takeaway:\n",
        "\n",
        "Summer and winter travel seasons bring longer average delays — particularly Sundays in August, when peak leisure travel and weather patterns converge to slow operations.\n"
      ],
      "metadata": {
        "id": "02GJqJ3c6sED"
      }
    },
    {
      "cell_type": "markdown",
      "source": [
        "## **Monthly Delays**"
      ],
      "metadata": {
        "id": "kbob_HGvs4GO"
      }
    },
    {
      "cell_type": "code",
      "source": [
        "# Delay Causes by Month\n",
        "\n",
        "# Sum delay causes by month (for all flights)\n",
        "monthly_cause = df_all.groupby('Month')[['CarrierDelay', 'WeatherDelay', 'NASDelay', 'LateAircraftDelay']].sum()\n",
        "\n",
        "# Calculate percentage of total delay minutes\n",
        "monthly_percent = monthly_cause.div(monthly_cause.sum().sum(), axis=0) * 100\n",
        "\n",
        "# Convert month numbers to names\n",
        "monthly_percent = monthly_percent.reset_index()\n",
        "monthly_percent['Month'] = monthly_percent['Month'].replace({\n",
        "    1:'Jan', 2:'Feb', 3:'Mar', 4:'Apr', 5:'May', 6:'Jun',\n",
        "    7:'Jul', 8:'Aug', 9:'Sep', 10:'Oct', 11:'Nov', 12:'Dec'\n",
        "})\n",
        "\n",
        "# Plot\n",
        "fig = px.area(\n",
        "    monthly_percent,\n",
        "    x='Month',\n",
        "    y=['CarrierDelay', 'WeatherDelay', 'NASDelay', 'LateAircraftDelay'],\n",
        "    title='Delay Causes by Month',\n",
        "    labels={'value':'% of Total Delay Minutes', 'variable':'Delay Cause'}\n",
        ")\n",
        "\n",
        "fig.show()"
      ],
      "metadata": {
        "id": "VDJV5egRt6ZS"
      },
      "execution_count": null,
      "outputs": []
    },
    {
      "cell_type": "markdown",
      "source": [
        "### Delay Causes by Month\n",
        "\n",
        "This stacked area chart illustrates how different delay causes contribute to the total delay time across months of the year.\n",
        "- Late Aircraft Delays (purple) consistently account for the largest share of total delay minutes.\n",
        "- NAS (National Airspace System) Delays (green) remain consistent with delay trends throughout the year, increasing slightly in summer (June–August) and holiday months (December-February) when air traffic volume is highest.\n",
        "- Carrier Delays (blue) and Weather Delays (red) remain relatively steady throughout the year\n",
        "- Delays pike notably in winter (Dec–Feb) and early summer (June) — periods often affected by severe weather and schedule congestion.\n",
        "\n",
        "Key takeaway:\n",
        "\n",
        "Most delays stem from late-arriving aircraft and system congestion, with seasonal disruption during winter and summer peaks\n"
      ],
      "metadata": {
        "id": "YIUK-CK0lOkY"
      }
    },
    {
      "cell_type": "markdown",
      "source": [
        "## **Average Delays by Airline**"
      ],
      "metadata": {
        "id": "MFzQjNqygAqF"
      }
    },
    {
      "cell_type": "code",
      "source": [
        "# Average Delays by Airline\n",
        "avg_delay_carrier = df.groupby('UniqueCarrier')[['ArrDelay','DepDelay']].mean().sort_values('ArrDelay', ascending=False)\n",
        "avg_delay_carrier.plot(kind='bar', figsize=(10,6))\n",
        "plt.title(\"Average Arrival & Departure Delays by Airline\")\n",
        "plt.ylabel(\"Arrival/Departure Delay (minutes)\")\n",
        "plt.xlabel(\"Airline\")\n",
        "plt.show()"
      ],
      "metadata": {
        "id": "4K8yfvx0gLVR"
      },
      "execution_count": null,
      "outputs": []
    },
    {
      "cell_type": "markdown",
      "source": [
        "This bar chart compares the average arrival and departure delays (in minutes) across major U.S. airlines.\n",
        "- B6 (JetBlue) shows the highest average delays, exceeding 75 minutes, followed by regional carriers like YV, XE, and UA, indicating greater susceptibility to scheduling and congestion issues.\n",
        "- Major carriers like AA (American), DL (Delta), and US (US Airways) perform better, maintaining delays around 50–60 minutes.\n",
        "- Low-cost carriers such as WN (Southwest) and F9 (Frontier) show the shortest delays, averaging under 45 minutes, reflecting more efficient turnaround times and simplified networks.\n",
        "- Across all airlines, arrival delays are consistently slightly higher than departure delays — consistent with compounding effects from prior flight disruptions.\n",
        "\n",
        "Key takeaway:\n",
        "\n",
        "Delay severity varies by airline — regional and legacy carriers experience longer delays, while low-cost carriers demonstrate stronger schedule reliability and recovery efficiency.\n"
      ],
      "metadata": {
        "id": "-t1SHn1amQLo"
      }
    }
  ]
}