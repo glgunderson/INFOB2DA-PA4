{
  "nbformat": 4,
  "nbformat_minor": 0,
  "metadata": {
    "colab": {
      "provenance": [],
      "include_colab_link": true
    },
    "kernelspec": {
      "name": "python3",
      "display_name": "Python 3"
    },
    "language_info": {
      "name": "python"
    }
  },
  "cells": [
    {
      "cell_type": "markdown",
      "metadata": {
        "id": "view-in-github",
        "colab_type": "text"
      },
      "source": [
        "<a href=\"https://colab.research.google.com/github/glgunderson/INFOB2DA-PA4/blob/main/pa4.ipynb\" target=\"_parent\"><img src=\"https://colab.research.google.com/assets/colab-badge.svg\" alt=\"Open In Colab\"/></a>"
      ]
    },
    {
      "cell_type": "markdown",
      "source": [
        "# **Dashboard Visualizations and Coordinated View Systems**\n",
        "## Practical Assignment 4 - INFOB2DA\n",
        "*Tobias Buiten & Grace Gunderson*\n"
      ],
      "metadata": {
        "id": "-9pK8jgXqZFn"
      }
    },
    {
      "cell_type": "code",
      "source": [
        "# Import Relevant Libraries for Level 2 Visualization\n",
        "import pandas as pd\n",
        "import numpy as np\n",
        "import matplotlib.pyplot as plt\n",
        "import seaborn as sns\n",
        "import plotly.express as px"
      ],
      "metadata": {
        "id": "nMtLaNkGQ56u"
      },
      "execution_count": null,
      "outputs": []
    },
    {
      "cell_type": "code",
      "execution_count": null,
      "metadata": {
        "id": "s8Mb7f6oAh5a"
      },
      "outputs": [],
      "source": [
        "# Download Dataset from GitHub Release & Unzip Large Dataset\n",
        "!curl -L -o DelayedFlights.zip \"https://github.com/glgunderson/INFOB2DA-PA4/releases/download/PA4.DATA/DelayedFlights.zip\"\n",
        "!unzip -o DelayedFlights.zip -d data\n",
        "\n",
        "import pandas as pd\n",
        "\n",
        "# Load Dataset\n",
        "df_raw = pd.read_csv('data/airlinedelaycauses_DelayedFlights.csv')\n",
        "\n",
        "# Copy Dataset for Preprocessing\n",
        "df = df_raw.copy()\n",
        "\n",
        "# Preview Dataset\n",
        "df_raw.head()"
      ]
    },
    {
      "cell_type": "markdown",
      "source": [
        "## Dataset Overview\n",
        "\n",
        "### DOT’S Air Travel Consumer Report:\n",
        "The U.S. Department of Transportation’s (DOT) Bureau of Transportation Statistics (BTS) tracks the **on-time performance** of domestic flights operated by large air carriers.\n",
        "- DOT provides **monthly summary information** on the number of on-time, delayed, cancelled and diverted flights.\n",
        "- BTS collects details on the **causes of flight delays** and releases summary statistics and raw data.\n"
      ],
      "metadata": {
        "id": "AkQ4TcaqG2MV"
      }
    },
    {
      "cell_type": "markdown",
      "source": [
        "## Relevant Features\n",
        "\n",
        "Time-Related Features\n",
        "- `Month` (1-12) / `DayOfMonth` (1-31) / `DayOfWeek` (1-7) — calendar indicators for each flight.\n",
        "- `DepTime` / `ArrTime` — actual departure and arrival times (in HHMM format).\n",
        "- `CRSDepTime` / `CRSArrTime` — scheduled departure and arrival times (in HHMM format).\n",
        "- `DepHour` / `ArrHour` — derived from scheduled times, showing the hour of day (0–23) - *AFTER PREPROCESSING*\n",
        "\n",
        "Flight Details\n",
        "- `Distance` — flight distance in miles.\n",
        "  - `DistanceGroup` — categorized distance range (<500, 500–1000, etc.) - *AFTER PREPROCESSING*\n",
        "- `AirTime` — total time spent in the air (minutes).\n",
        "- `ActualElapsedTime` / `CRSElapsedTime` — actual vs. scheduled total flight durations (minutes).\n",
        "\n",
        "Delay Metrics\n",
        "- `DepDelay` / `ArrDelay` — minutes delayed at departure and arrival.\n",
        "  - `DepDelayHours` / `ArrDelayHours` — same delays converted to hours for easier interpretation - *AFTER PREPROCESSING*\n",
        "- `CarrierDelay` / `WeatherDelay` / `NASDelay` / `SecurityDelay` / LateAircraftDelay — minutes of delay attributed to specific causes.\n",
        "\n",
        "Operational Flags\n",
        "- `Cancelled` / `Diverted` — binary indicators (1 = yes, 0 = no).\n",
        "- `UniqueCarrier` — airline carrier code (e.g., AA, DL, UA).\n",
        "- `Origin` / `Dest` — airport codes for departure and arrival locations.\n"
      ],
      "metadata": {
        "id": "rsgYEMZauqDd"
      }
    },
    {
      "cell_type": "markdown",
      "source": [
        "## Summary Statistics"
      ],
      "metadata": {
        "id": "6wgAEROusSRb"
      }
    },
    {
      "cell_type": "code",
      "source": [
        "# Understand the dataset\n",
        "df_raw.info()\n",
        "df_raw.shape"
      ],
      "metadata": {
        "id": "3OT4xV2s1BYu"
      },
      "execution_count": null,
      "outputs": []
    },
    {
      "cell_type": "code",
      "source": [
        "# Basic Summary Statistics\n",
        "df_raw.describe().T"
      ],
      "metadata": {
        "id": "VOEncVI_KyfH"
      },
      "execution_count": null,
      "outputs": []
    },
    {
      "cell_type": "markdown",
      "source": [
        "### Understanding the Dataset\n",
        "The initial output upon loading the *full raw dataset* includes:\n",
        "- **1,936,758 rows (flights) x 30 columns (features)**\n",
        "- The columns consist of both numeric (`int64`, `float64`) and categorical (`object`) features, including:\n",
        "  - 14 float variables (e.g., `DepTime`, `ArrTime`, `DepDelay`, `ArrDelay`)\n",
        "  - 11 integer variables (e.g., `Year`, `Month`, `DayofWeek`, `FlightNum`)\n",
        "  - 5 object variables (e.g., `UniqueCarrier`, `Origin`, `Dest`)  \n",
        "\n",
        "According to PA4, the dataset *should* include:\n",
        "- Flight delay metrics for **1,247,486** different flights.\n",
        "- **30 different features**, both numerical and categorical.\n",
        "\n",
        "### Understanding the Record Discrepancy\n",
        "The difference between the ~1.94 million and ~1.25 million flight records is explained by *dataset scope*.\n",
        "- The full raw dataset (**1,936,758 rows**) includes **all scheduled flights** in 2008 - whether they were on time, delayed, cancelled, or diverted.\n",
        "- Only a subset of the flight records (**1,247,488 rows**) contain complete **delay-related data** (`CarrierDelay`, `WeatherDelay`, `NASDelay`, `SecurityDelay`, `LateAircraftDelay`).\n",
        "  - These represent flights that actually experienced a *delay event*, which is the primary focus of this data analysis.\n",
        "\n",
        "As a result, all preprocessing and subsequent visualizations are performed on this ~1.25M delayed-flight subset to ensure meaningful data analysis."
      ],
      "metadata": {
        "id": "RtLnAJ0prNEN"
      }
    },
    {
      "cell_type": "markdown",
      "source": [
        "## Preprocessing"
      ],
      "metadata": {
        "id": "zvlI37DVIEFe"
      }
    },
    {
      "cell_type": "markdown",
      "source": [],
      "metadata": {
        "id": "V1XVKfxKDb3P"
      }
    },
    {
      "cell_type": "code",
      "source": [
        "# PREPROCESSING\n",
        "\n",
        "# 1. Drop redundant/irrelevant columns\n",
        "df = df.drop(columns=['Unnamed: 0', 'Year', 'FlightNum', 'TailNum', 'CancellationCode'], errors='ignore')\n",
        "\n",
        "# 2. Remove cancelled or diverted flights\n",
        "df = df[(df['Cancelled'] == 0) & (df['Diverted'] == 0)]\n",
        "\n",
        "# 3. Identify records with complete delay-cause data\n",
        "DelayCause = ['CarrierDelay', 'WeatherDelay', 'NASDelay', 'SecurityDelay', 'LateAircraftDelay']\n",
        "df = df.dropna(subset=DelayCause)\n",
        "\n",
        "# 4. Fill missing delay-cause values (NaN) with 0\n",
        "df[DelayCause] = df[DelayCause].fillna(0)\n",
        "\n",
        "# 5. Clip negative delay values (representing early arrivals) to 0\n",
        "df['ArrDelay'] = df['ArrDelay'].clip(lower=0)\n",
        "\n",
        "# 6. Derive new time-based features for later visualization\n",
        "df['DepHour'] = (df['DepTime'] // 100).astype(int)\n",
        "df['ArrHour'] = (df['ArrTime'] // 100).astype(int)\n",
        "\n",
        "# 7. Convert arrival/departure delays from minutes to hours\n",
        "df['ArrDelayHours'] = (df['ArrDelay'] / 60).astype('float64')\n",
        "df['DepDelayHours'] = (df['DepDelay'] / 60).astype('float64')\n",
        "\n",
        "# 8. Create distance categories (in miles)\n",
        "df['DistanceGroup'] = pd.cut(\n",
        "    df['Distance'],\n",
        "    bins=[0, 500, 1000, 2000, 3000, 5000],\n",
        "    labels=['<500', '500–1000', '1000–2000', '2000–3000', '3000–5000']\n",
        ")\n",
        "\n",
        "# 9. Reset DataFrame index to ensure clean row alignment\n",
        "df = df.reset_index(drop=True)\n",
        "\n",
        "# Verify structure after preprocessing\n",
        "df.info()\n",
        "df.shape"
      ],
      "metadata": {
        "id": "YcEdaqk-eyQQ"
      },
      "execution_count": null,
      "outputs": []
    },
    {
      "cell_type": "markdown",
      "source": [
        "## Data Preprocessing\n",
        "\n",
        "*Before visualizing flight delay trends, the dataset required preprocessing to ensure data analysis focuses only on valid, delayed flight records.*\n",
        "\n",
        "### 1. Removed redundant and irrelevant columns\n",
        "- The first column, `Unnamed: 0`, is an index column automatically generated during export and does not represent a meaningful feature.\n",
        "- Dropped `Year` since all records were from 2008 (constant value), offering no variance for analysis.\n",
        "- `FlightNum`, `TailNum`, and `CancellationCode` provide no meaningful information for data analysis of flight delays.\n",
        "\n",
        "### 2. Excluded cancelled or diverted flights\n",
        "- Removed flights where `Cancelled = 1` or `Diverted = 1`.  \n",
        "- These records do not have valid arrival/departure data, which is essential for delay analysis.\n",
        "- The focus of analysis is delayed flights, so this information is not relevant.\n",
        "\n",
        "### 3. Retained only records with complete delay-cause data\n",
        "- Filtered to include only rows where all five delay cause fields were present:  \n",
        "  `CarrierDelay`, `WeatherDelay`, `NASDelay`, `SecurityDelay`, `LateAircraftDelay`.  \n",
        "- This isolates the ~1.25 million delayed-flight subset that contains full delay-cause information — the focus of this data analysis.\n",
        "\n",
        "### 4. Filled missing delay-cause values with zero\n",
        "- Any remaining `NaN` values in delay-cause columns were replaced with `0`\n",
        "- NaN indicated *no delay* from that cause (e.g., `WeatherDelay`).\n",
        "\n",
        "### 5. Clipped negative arrival delay values\n",
        "- Negative values in `ArrDelay` represent early arrivals (e.g., `-109` = 109 minutes early).  \n",
        "- To focus purely on delays, these were clipped to `0`, indicating no delay.  \n",
        "- `DepDelay` contained no negative values, so no adjustment was required.\n",
        "\n",
        "### 6. Derived new time-based features\n",
        "- Created `DepHour` and `ArrHour` by converting scheduled departure/arrival times (e.g., `1530`) to hour bins (e.g., `15`).  \n",
        "- This facilitates later visualization of delay patterns by time of day.\n",
        "\n",
        "### 7. Converted arrival and departure delays from minutes to hours\n",
        "- Created two new columns, ArrDelayHours and DepDelayHours, by dividing the delay values (in minutes) by 60.\n",
        "- This transformation makes large delay durations easier to interpret (e.g., 180 minutes → 3.0 hours).\n",
        "- Both columns were stored as floating-point values (float64) to preserve precision for visualizations and calculations.\n",
        "\n",
        "### 8. Created distance categories (DistanceGroup)\n",
        "- Grouped flight distances (in miles) into five categories to simplify comparison across flight lengths.\n",
        "- The new DistanceGroup column was created using pd.cut() with the following bins and labels: <500, 500–1000, 1000–2000, 2000–3000, 3000–5000.\n",
        "- This grouping allows visualizations to explore whether longer flights are more or less prone to delays.\n",
        "\n",
        "### 9. Reset DataFrame index\n",
        "- Reset the index after all filtering steps to maintain continuous row alignment."
      ],
      "metadata": {
        "id": "7TeENQfwAXq3"
      }
    },
    {
      "cell_type": "markdown",
      "source": [
        "### Preprocessing Summary\n",
        "After cleaning and filtering the dataset, the records were reduced from **1,936,758** total scheduled flights to **1,247,488** valid delayed-flight records.\n",
        "\n",
        "*This refined dataset now focuses exclusively on flights that experienced measurable delays, removing cancelled, diverted, or incomplete records.*\n",
        "- Dataset size reduced: from ~443 MB to ~277 MB\n",
        "- Features retained: 30 (including derived time-based and distance-group variables)\n",
        "- Delay cause completeness: All five causes (CarrierDelay, WeatherDelay, NASDelay, SecurityDelay, LateAircraftDelay) present for every record\n",
        "- Negative delay values clipped (early arrivals = 0 hours delay)\n",
        "- Delays converted from minutes → hours for interpretability\n",
        "- Added columns: DepHour, ArrHour, DepDelayHours, ArrDelayHours, DistanceGroup\n",
        "\n",
        "*The resulting dataset is now optimized for visual analysis of **when, why, and how long flights are delayed**, forming a clean basis for the dashboard visualizations.*\n"
      ],
      "metadata": {
        "id": "osmIiDUkzhvJ"
      }
    },
    {
      "cell_type": "markdown",
      "source": [
        "## Review Dataset"
      ],
      "metadata": {
        "id": "tIBNe7UurznH"
      }
    },
    {
      "cell_type": "code",
      "source": [
        "# Basic summary statistics after preprocessing\n",
        "df.describe().T"
      ],
      "metadata": {
        "id": "HOCq7FqEux7E"
      },
      "execution_count": null,
      "outputs": []
    },
    {
      "cell_type": "code",
      "source": [
        "print(f\"Raw dataset shape: {df_raw.shape}\")\n",
        "print(f\"Cleaned dataset shape: {df.shape}\")\n",
        "print(f\"Rows removed during preprocessing: {df_raw.shape[0] - df.shape[0]:,}\")"
      ],
      "metadata": {
        "id": "c3drNLZzthuk"
      },
      "execution_count": null,
      "outputs": []
    },
    {
      "cell_type": "markdown",
      "source": [
        "## Investigate Dataset"
      ],
      "metadata": {
        "id": "lSUilzxb7FNJ"
      }
    },
    {
      "cell_type": "code",
      "source": [
        "# Number of delayed flights due to each cause?\n",
        "(df[['CarrierDelay','WeatherDelay','NASDelay','SecurityDelay','LateAircraftDelay']] > 0).sum()"
      ],
      "metadata": {
        "id": "a_CkJu5GafL1"
      },
      "execution_count": null,
      "outputs": []
    },
    {
      "cell_type": "code",
      "source": [
        "# Delays greater than 24 hours?\n",
        "(df['ArrDelay'] > 1440).sum(), (df['DepDelay'] > 1440).sum(), (df['CarrierDelay'] > 1440).sum()"
      ],
      "metadata": {
        "id": "4niH3obqLE9u"
      },
      "execution_count": null,
      "outputs": []
    },
    {
      "cell_type": "code",
      "source": [
        "plt.figure(figsize=(6,5))\n",
        "sns.heatmap(df[DelayCause].corr(), annot=True, cmap='Blues', fmt=\".2f\",\n",
        "            cbar_kws={'label':'Correlation Coefficient'})\n",
        "plt.title('Correlation Between Delay Causes')\n",
        "plt.xticks(rotation=45)\n",
        "plt.show()"
      ],
      "metadata": {
        "id": "SZHhVaia5T04"
      },
      "execution_count": null,
      "outputs": []
    },
    {
      "cell_type": "markdown",
      "source": [
        "# **Visualization Dashboard**"
      ],
      "metadata": {
        "id": "jyQF567pr6IU"
      }
    },
    {
      "cell_type": "markdown",
      "source": [
        "## **Average Arrival and Departure Delays by Hour**"
      ],
      "metadata": {
        "id": "VDl8g5vLsxkM"
      }
    },
    {
      "cell_type": "code",
      "source": [
        "# Visualization 1 – Average Arrival and Departure Delays by Hour\n",
        "import matplotlib.pyplot as plt\n",
        "import seaborn as sns\n",
        "\n",
        "# Apply a blue-friendly theme\n",
        "sns.set_style(\"whitegrid\")\n",
        "sns.set_palette(\"Blues_r\")\n",
        "\n",
        "# Create bar plot\n",
        "plt.figure(figsize=(10,5))\n",
        "df.groupby('DepHour')[['ArrDelayHours', 'DepDelayHours']].mean().plot(\n",
        "    kind='bar',\n",
        "    ax=plt.gca(),\n",
        "    width=0.8,\n",
        "    edgecolor='none'\n",
        ")\n",
        "\n",
        "# Titles and labels\n",
        "plt.title('Average Arrival and Departure Delays by Hour', fontsize=13, weight='bold')\n",
        "plt.xlabel('Hour of Day (Departure)', fontsize=11)\n",
        "plt.ylabel('Average Delay (Hours)', fontsize=11)\n",
        "plt.xticks(rotation=0)\n",
        "plt.legend(['Arrival Delay', 'Departure Delay'], title='Delay Type')\n",
        "\n",
        "# Remove unnecessary frame and tighten layout\n",
        "sns.despine()\n",
        "plt.tight_layout()\n",
        "plt.show()"
      ],
      "metadata": {
        "id": "kL2WA_7N9KjV"
      },
      "execution_count": null,
      "outputs": []
    },
    {
      "cell_type": "markdown",
      "source": [
        "## **Visualization 2**"
      ],
      "metadata": {
        "id": "_X1-K_Dds0GY"
      }
    },
    {
      "cell_type": "code",
      "source": [
        "# 2\n",
        "# Create pivot table for average arrival delay by weekday and hour\n",
        "pivot = df.pivot_table(\n",
        "    values='ArrDelayHours',\n",
        "    index='DepHour',       # rows = hour of day\n",
        "    columns='DayOfWeek',   # columns = day of week\n",
        "    aggfunc='mean'\n",
        ")\n",
        "\n",
        "# Rename day columns for clarity\n",
        "pivot.columns = ['Mon', 'Tue', 'Wed', 'Thu', 'Fri', 'Sat', 'Sun']\n",
        "\n",
        "# Plot heatmap\n",
        "plt.figure(figsize=(8,6))\n",
        "sns.heatmap(pivot, cmap='coolwarm', annot=False, cbar_kws={'label': 'Average Arrival Delay (hours)'})\n",
        "plt.title('Average Arrival Delay by Hour and Day of Week')\n",
        "plt.xlabel('Day of Week')\n",
        "plt.ylabel('Hour of Day')\n",
        "plt.show()"
      ],
      "metadata": {
        "id": "zky6WduTt1DZ"
      },
      "execution_count": null,
      "outputs": []
    },
    {
      "cell_type": "markdown",
      "source": [
        "## **Visualization 3**"
      ],
      "metadata": {
        "id": "aoN9u9ZCs0g-"
      }
    },
    {
      "cell_type": "code",
      "source": [
        "# Group delay causes by departure hour (values still in minutes)\n",
        "hourly_delays_hr = df.groupby('DepHour')[DelayCause].sum().reset_index()\n",
        "\n",
        "# Convert all delay cause totals from minutes to hours\n",
        "hourly_delays_hr[DelayCause] = hourly_delays_hr[DelayCause] / 60\n",
        "\n",
        "# Create interactive stacked area chart\n",
        "fig = px.area(\n",
        "    hourly_delays_hr,\n",
        "    x='DepHour',\n",
        "    y=DelayCause,\n",
        "    title='Hourly Distribution of Delay Causes',\n",
        "    labels={\n",
        "        'value': 'Total Delay (hours)',\n",
        "        'DepHour': 'Hour of Day (Departure)'\n",
        "    }\n",
        ")\n",
        "\n",
        "# Clean legend and axes formatting\n",
        "fig.update_layout(\n",
        "    legend_title_text='Cause of Delay',\n",
        "    xaxis=dict(\n",
        "        tickmode='linear',\n",
        "        dtick=1,  # show every hour (0–23)\n",
        "        title='Hour of Day (Departure)',\n",
        "        range=[0, 23]\n",
        "    ),\n",
        "    yaxis_title='Total Delay (hours)',\n",
        "    plot_bgcolor='white'\n",
        ")\n",
        "\n",
        "fig.show()"
      ],
      "metadata": {
        "id": "cVzkMjMY2mTn"
      },
      "execution_count": null,
      "outputs": []
    },
    {
      "cell_type": "markdown",
      "source": [
        "## **Visualization 4**"
      ],
      "metadata": {
        "id": "dRLiL9wvs08a"
      }
    },
    {
      "cell_type": "code",
      "source": [
        "# 4\n",
        "# Pivot table: average arrival delay grouped by month and weekday\n",
        "pivot = df.pivot_table(\n",
        "    values='ArrDelayHours',\n",
        "    index='Month',        # months as rows\n",
        "    columns='DayOfWeek',  # weekdays as columns\n",
        "    aggfunc='mean'\n",
        ")\n",
        "\n",
        "# Replace numeric weekdays (1–7) with labels\n",
        "pivot.columns = ['Mon', 'Tue', 'Wed', 'Thu', 'Fri', 'Sat', 'Sun']\n",
        "\n",
        "# Replace numeric months (1–12) with short names\n",
        "month_labels = ['Jan', 'Feb', 'Mar', 'Apr', 'May', 'Jun',\n",
        "                'Jul', 'Aug', 'Sep', 'Oct', 'Nov', 'Dec']\n",
        "pivot.index = month_labels\n",
        "\n",
        "# Plot heatmap\n",
        "plt.figure(figsize=(9,6))\n",
        "sns.heatmap(pivot, cmap='YlOrRd', annot=False, cbar_kws={'label': 'Avg Arrival Delay (hours)'})\n",
        "plt.title('Average Arrival Delay by Month and Day of Week')\n",
        "plt.xlabel('Day of Week')\n",
        "plt.ylabel('Month')\n",
        "plt.show()"
      ],
      "metadata": {
        "id": "YzMrivSot3dn"
      },
      "execution_count": null,
      "outputs": []
    },
    {
      "cell_type": "markdown",
      "source": [
        "The weak correlation (|r| < 0.2) between delay causes indicate that most types of delays occur independently."
      ],
      "metadata": {
        "id": "02GJqJ3c6sED"
      }
    },
    {
      "cell_type": "markdown",
      "source": [
        "## **Visualization 5**"
      ],
      "metadata": {
        "id": "kbob_HGvs4GO"
      }
    },
    {
      "cell_type": "code",
      "source": [
        "# 5\n",
        "# Sum delay causes by month (for all flights)\n",
        "monthly_cause = df_raw.groupby('Month')[['CarrierDelay', 'WeatherDelay', 'NASDelay', 'LateAircraftDelay']].sum()\n",
        "\n",
        "# Calculate percentage of total delay minutes\n",
        "monthly_percent = monthly_cause.div(monthly_cause.sum().sum(), axis=0) * 100\n",
        "\n",
        "# Convert month numbers to names\n",
        "monthly_percent = monthly_percent.reset_index()\n",
        "monthly_percent['Month'] = monthly_percent['Month'].replace({\n",
        "    1:'Jan', 2:'Feb', 3:'Mar', 4:'Apr', 5:'May', 6:'Jun',\n",
        "    7:'Jul', 8:'Aug', 9:'Sep', 10:'Oct', 11:'Nov', 12:'Dec'\n",
        "})\n",
        "\n",
        "# Plot\n",
        "fig = px.area(\n",
        "    monthly_percent,\n",
        "    x='Month',\n",
        "    y=['CarrierDelay', 'WeatherDelay', 'NASDelay', 'LateAircraftDelay'],\n",
        "    title='Delay Causes by Month',\n",
        "    labels={'value':'% of Total Delay Minutes', 'variable':'Delay Cause'}\n",
        ")\n",
        "\n",
        "fig.show()"
      ],
      "metadata": {
        "id": "VDJV5egRt6ZS"
      },
      "execution_count": null,
      "outputs": []
    },
    {
      "cell_type": "markdown",
      "source": [
        "## **Visualisation 6**"
      ],
      "metadata": {
        "id": "MFzQjNqygAqF"
      }
    },
    {
      "cell_type": "code",
      "source": [
        "# 6\n",
        "avg_delay_carrier = df.groupby('UniqueCarrier')[['ArrDelay','DepDelay']].mean().sort_values('ArrDelay', ascending=False)\n",
        "avg_delay_carrier.plot(kind='bar', figsize=(12,6))\n",
        "plt.title(\"Average Arrival & Departure Delays by Airline\")\n",
        "plt.ylabel(\"Arrival/Departure Delay (minutes)\")\n",
        "plt.show()"
      ],
      "metadata": {
        "id": "4K8yfvx0gLVR"
      },
      "execution_count": null,
      "outputs": []
    },
    {
      "cell_type": "code",
      "source": [],
      "metadata": {
        "id": "o23kaQge098t"
      },
      "execution_count": null,
      "outputs": []
    }
  ]
}