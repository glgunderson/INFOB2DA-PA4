{
  "nbformat": 4,
  "nbformat_minor": 0,
  "metadata": {
    "colab": {
      "provenance": [],
      "include_colab_link": true
    },
    "kernelspec": {
      "name": "python3",
      "display_name": "Python 3"
    },
    "language_info": {
      "name": "python"
    }
  },
  "cells": [
    {
      "cell_type": "markdown",
      "metadata": {
        "id": "view-in-github",
        "colab_type": "text"
      },
      "source": [
        "<a href=\"https://colab.research.google.com/github/glgunderson/INFOB2DA-PA4/blob/main/pa4.ipynb\" target=\"_parent\"><img src=\"https://colab.research.google.com/assets/colab-badge.svg\" alt=\"Open In Colab\"/></a>"
      ]
    },
    {
      "cell_type": "markdown",
      "source": [
        "# **Dashboard Visualizations and Coordinated View Systems**\n",
        "## Practical Assignment 4 - INFOB2DA\n",
        "*Tobias Buiten & Grace Gunderson*\n"
      ],
      "metadata": {
        "id": "-9pK8jgXqZFn"
      }
    },
    {
      "cell_type": "code",
      "source": [
        "# Import Relevant Libraries for Level 2 Visualization\n",
        "import pandas as pd\n",
        "import numpy as np\n",
        "import matplotlib.pyplot as plt\n",
        "import seaborn as sns\n",
        "import plotly.express as px"
      ],
      "metadata": {
        "id": "nMtLaNkGQ56u"
      },
      "execution_count": null,
      "outputs": []
    },
    {
      "cell_type": "code",
      "execution_count": null,
      "metadata": {
        "id": "s8Mb7f6oAh5a"
      },
      "outputs": [],
      "source": [
        "# Download Dataset from GitHub Release & Unzip Large Dataset\n",
        "!curl -L -o DelayedFlights.zip \"https://github.com/glgunderson/INFOB2DA-PA4/releases/download/PA4.DATA/DelayedFlights.zip\"\n",
        "!unzip -o DelayedFlights.zip -d data\n",
        "\n",
        "import pandas as pd\n",
        "\n",
        "# Load Dataset\n",
        "df_raw = pd.read_csv('data/airlinedelaycauses_DelayedFlights.csv')\n",
        "\n",
        "# Copy Dataset for Preprocessing\n",
        "df = df_raw.copy()\n",
        "\n",
        "# Preview Dataset\n",
        "df_raw.head()"
      ]
    },
    {
      "cell_type": "markdown",
      "source": [
        "## Dataset Overview\n",
        "\n",
        "### DOT’S Air Travel Consumer Report:\n",
        "The U.S. Department of Transportation’s (DOT) Bureau of Transportation Statistics (BTS) tracks the **on-time performance** of domestic flights operated by large air carriers.\n",
        "- DOT provides **monthly summary information** on the number of on-time, delayed, cancelled and diverted flights.\n",
        "- BTS collects details on the **causes of flight delays** and releases summary statistics and raw data.\n"
      ],
      "metadata": {
        "id": "AkQ4TcaqG2MV"
      }
    },
    {
      "cell_type": "markdown",
      "source": [
        "## Summary Statistics"
      ],
      "metadata": {
        "id": "6wgAEROusSRb"
      }
    },
    {
      "cell_type": "code",
      "source": [
        "# Understand the dataset\n",
        "df_raw.info()\n",
        "df_raw.shape"
      ],
      "metadata": {
        "id": "3OT4xV2s1BYu"
      },
      "execution_count": null,
      "outputs": []
    },
    {
      "cell_type": "code",
      "source": [
        "# Basic Summary Statistics\n",
        "df_raw.describe().T"
      ],
      "metadata": {
        "id": "VOEncVI_KyfH"
      },
      "execution_count": null,
      "outputs": []
    },
    {
      "cell_type": "markdown",
      "source": [
        "### Understanding the Dataset\n",
        "The initial output upon loading the *full raw dataset* includes:\n",
        "- **1,936,758 rows (flights) x 30 columns (features)**\n",
        "- The columns consist of both numeric (`int64`, `float64`) and categorical (`object`) features, including:\n",
        "  - 14 float variables (e.g., `DepTime`, `ArrTime`, `DepDelay`, `ArrDelay`)\n",
        "  - 11 integer variables (e.g., `Year`, `Month`, `DayofWeek`, `FlightNum`)\n",
        "  - 5 object variables (e.g., `UniqueCarrier`, `Origin`, `Dest`)  \n",
        "\n",
        "According to PA4, the dataset *should* include:\n",
        "- Flight delay metrics for **1,247,486** different flights.\n",
        "- **30 different features**, both numerical and categorical.\n",
        "\n",
        "### Understanding the Record Discrepancy\n",
        "The difference between the ~1.94 million and ~1.25 million flight records is explained by *dataset scope*.\n",
        "- The full raw dataset (**1,936,758 rows**) includes **all scheduled flights** in 2008 - whether they were on time, delayed, cancelled, or diverted.\n",
        "- Only a subset of the flight records (**1,247,488 rows**) contain complete **delay-related data** (`CarrierDelay`, `WeatherDelay`, `NASDelay`, `SecurityDelay`, `LateAircraftDelay`).\n",
        "  - These represent flights that actually experienced a *delay event*, which is the primary focus of this data analysis.\n",
        "\n",
        "As a result, all preprocessing and subsequent visualizations are performed on this ~1.25M delayed-flight subset to ensure meaningful data analysis."
      ],
      "metadata": {
        "id": "RtLnAJ0prNEN"
      }
    },
    {
      "cell_type": "markdown",
      "source": [
        "## Preprocessing"
      ],
      "metadata": {
        "id": "zvlI37DVIEFe"
      }
    },
    {
      "cell_type": "markdown",
      "source": [],
      "metadata": {
        "id": "V1XVKfxKDb3P"
      }
    },
    {
      "cell_type": "code",
      "source": [
        "# PREPROCESSING\n",
        "\n",
        "# Drop redundant/irrelevant columns\n",
        "df = df.drop(columns=['Unnamed: 0', 'Year', 'FlightNum', 'TailNum', 'CancellationCode'], errors='ignore')\n",
        "\n",
        "# Remove cancelled or diverted flights\n",
        "df = df[(df['Cancelled'] == 0) & (df['Diverted'] == 0)]\n",
        "\n",
        "# Identify records with complete delay-cause data\n",
        "DelayCause = ['CarrierDelay', 'WeatherDelay', 'NASDelay', 'SecurityDelay', 'LateAircraftDelay']\n",
        "df = df.dropna(subset=DelayCause)\n",
        "\n",
        "# Drop rows missing essential delay information\n",
        "df = df.dropna(subset=['ArrDelay'])\n",
        "\n",
        "# Fill missing delay-cause values (NaN) with 0\n",
        "df[DelayCause] = df[DelayCause].fillna(0)\n",
        "\n",
        "# Clip negative delay values (representing early arrivals) to 0\n",
        "df['ArrDelay'] = df['ArrDelay'].clip(lower=0)\n",
        "\n",
        "# Derive new time-based features for later visualization\n",
        "df['DepHour'] = (df['DepTime'] // 100).astype(int)\n",
        "df['ArrHour'] = (df['ArrTime'] // 100).astype(int)\n",
        "\n",
        "# Convert arrival/departure delays from minutes to hours\n",
        "df['ArrDelayHours'] = (df['ArrDelay'] / 60).astype('float64')\n",
        "df['DepDelayHours'] = (df['DepDelay'] / 60).astype('float64')\n",
        "\n",
        "# Create distance categories (in miles)\n",
        "df['DistanceGroup'] = pd.cut(\n",
        "    df['Distance'],\n",
        "    bins=[0, 500, 1000, 2000, 3000, 5000],\n",
        "    labels=['<500', '500–1000', '1000–2000', '2000–3000', '3000–5000']\n",
        ")\n",
        "\n",
        "# Reset DataFrame index to ensure clean row alignment\n",
        "df = df.reset_index(drop=True)\n",
        "\n",
        "# Verify structure after preprocessing\n",
        "df.info()\n",
        "df.shape"
      ],
      "metadata": {
        "id": "YcEdaqk-eyQQ"
      },
      "execution_count": null,
      "outputs": []
    },
    {
      "cell_type": "markdown",
      "source": [
        "### Data Preprocessing\n",
        "## 🧹 Data Preprocessing\n",
        "\n",
        "*Before visualizing flight delay trends, the dataset required preprocessing to ensure data analysis focuses only on valid, delayed flight records.*\n",
        "\n",
        "### 1. Removed redundant and irrelevant columns\n",
        "- The first column, `Unnamed: 0`, is an index column automatically generated during export and does not represent a meaningful feature.\n",
        "- Dropped `Year` since all records were from 2008 (constant value), offering no variance for analysis.\n",
        "- `FlightNum` and `TailNum` provide no meaningful information for data analysis.\n",
        "\n",
        "### 2. Excluded cancelled or diverted flights\n",
        "- Removed flights where `Cancelled = 1` or `Diverted = 1`.  \n",
        "- These records do not have valid arrival/departure data, which is essential for delay analysis.\n",
        "\n",
        "### 3. Retained only records with complete delay-cause data\n",
        "- Filtered to include only rows where all five delay cause fields were present:  \n",
        "  `CarrierDelay`, `WeatherDelay`, `NASDelay`, `SecurityDelay`, `LateAircraftDelay`.  \n",
        "- This isolates the ~1.25 million delayed-flight subset that contains full delay-cause information — the focus of this data analysis.\n",
        "\n",
        "### 4. Dropped missing arrival delay values\n",
        "- `ArrDelay` had 1,928,371 non-null records out of 1,936,758.  \n",
        "- Rows missing `ArrDelay` were removed to ensure valid arrival delay metrics for analysis.  \n",
        "- `DepDelay` was already complete, so no removal was necessary.\n",
        "\n",
        "### 5. Filled missing delay-cause values with zero\n",
        "- Any remaining `NaN` values in delay-cause columns were replaced with `0`\n",
        "- NaN indicated *no delay* from that cause (e.g., `WeatherDelay`).\n",
        "\n",
        "### 6. Clipped negative arrival delay values\n",
        "- Negative values in `ArrDelay` represent early arrivals (e.g., `-109` = 109 minutes early).  \n",
        "- To focus purely on delays, these were clipped to `0`, indicating no delay.  \n",
        "- `DepDelay` contained no negative values, so no adjustment was required.\n",
        "\n",
        "### 7. Derived new time-based features\n",
        "- Created `DepHour` and `ArrHour` by converting scheduled departure/arrival times (e.g., `1530`) to hour bins (e.g., `15`).  \n",
        "- This facilitates later visualization of delay patterns by time of day.\n",
        "\n",
        "### 8. Reset DataFrame index\n",
        "- Reset the index after all filtering steps to maintain continuous row alignment.\n",
        "\n",
        "### Summary\n",
        "After preprocessing:\n",
        "- Rows reduced from **1,936,758** to **1,247,488**.\n",
        "- Columns remained **30**, with two new derived features (`DepHour`, `ArrHour`).  \n",
        "- Resulting dataset represents all recorded data for **delayed flights in 2008** that experienced measurable delay causes.\n"
      ],
      "metadata": {
        "id": "7TeENQfwAXq3"
      }
    },
    {
      "cell_type": "code",
      "source": [
        "# Basic summary statistics after preprocessing\n",
        "df.describe().T"
      ],
      "metadata": {
        "id": "HOCq7FqEux7E"
      },
      "execution_count": null,
      "outputs": []
    },
    {
      "cell_type": "code",
      "source": [
        "print(f\"Raw dataset shape: {df_raw.shape}\")\n",
        "print(f\"Cleaned dataset shape: {df.shape}\")\n",
        "print(f\"Rows removed during preprocessing: {df_raw.shape[0] - df.shape[0]:,}\")"
      ],
      "metadata": {
        "id": "c3drNLZzthuk"
      },
      "execution_count": null,
      "outputs": []
    },
    {
      "cell_type": "code",
      "source": [
        "# Delays greater than 24 hours\n",
        "(df['ArrDelay'] > 1440).sum(), (df['DepDelay'] > 1440).sum(), (df['CarrierDelay'] > 1440).sum()"
      ],
      "metadata": {
        "id": "4niH3obqLE9u"
      },
      "execution_count": null,
      "outputs": []
    },
    {
      "cell_type": "markdown",
      "source": [
        "## Analyze Dataset"
      ],
      "metadata": {
        "id": "tIBNe7UurznH"
      }
    },
    {
      "cell_type": "code",
      "source": [
        "(df[['CarrierDelay','WeatherDelay','NASDelay','SecurityDelay','LateAircraftDelay']] > 0).sum()"
      ],
      "metadata": {
        "id": "a_CkJu5GafL1"
      },
      "execution_count": null,
      "outputs": []
    },
    {
      "cell_type": "markdown",
      "source": [
        "# **7 Final Visuals**"
      ],
      "metadata": {
        "id": "jyQF567pr6IU"
      }
    },
    {
      "cell_type": "markdown",
      "source": [
        "## **Visualization 1**"
      ],
      "metadata": {
        "id": "VDl8g5vLsxkM"
      }
    },
    {
      "cell_type": "code",
      "source": [
        "# 1\n",
        "plt.figure(figsize=(10,5))\n",
        "df.groupby('DepHour')[['ArrDelayHours', 'DepDelayHours']].mean().plot(kind='bar')\n",
        "plt.title('Average Arrival and Departure Delays by Hour')\n",
        "plt.xlabel('Hour of Day (Departure)')\n",
        "plt.ylabel('Average Delay (Hours)')\n",
        "plt.legend(['Arrival Delay', 'Departure Delay'])\n",
        "plt.show()"
      ],
      "metadata": {
        "id": "KZ5mA78Yty4h"
      },
      "execution_count": null,
      "outputs": []
    },
    {
      "cell_type": "markdown",
      "source": [
        "### Conclusion"
      ],
      "metadata": {
        "id": "8ZUiJg_Vszyi"
      }
    },
    {
      "cell_type": "markdown",
      "source": [
        "## **Visualization 2**"
      ],
      "metadata": {
        "id": "_X1-K_Dds0GY"
      }
    },
    {
      "cell_type": "code",
      "source": [
        "# 2\n",
        "# Create pivot table for average arrival delay by weekday and hour\n",
        "pivot = df.pivot_table(\n",
        "    values='ArrDelayHours',\n",
        "    index='DepHour',       # rows = hour of day\n",
        "    columns='DayOfWeek',   # columns = day of week\n",
        "    aggfunc='mean'\n",
        ")\n",
        "\n",
        "# Rename day columns for clarity\n",
        "pivot.columns = ['Mon', 'Tue', 'Wed', 'Thu', 'Fri', 'Sat', 'Sun']\n",
        "\n",
        "# Plot heatmap\n",
        "plt.figure(figsize=(8,6))\n",
        "sns.heatmap(pivot, cmap='coolwarm', annot=False, cbar_kws={'label': 'Average Arrival Delay (hours)'})\n",
        "plt.title('Average Arrival Delay by Hour and Day of Week')\n",
        "plt.xlabel('Day of Week')\n",
        "plt.ylabel('Hour of Day')\n",
        "plt.show()"
      ],
      "metadata": {
        "id": "zky6WduTt1DZ"
      },
      "execution_count": null,
      "outputs": []
    },
    {
      "cell_type": "markdown",
      "source": [
        "### Conclusion"
      ],
      "metadata": {
        "id": "HT5jW5DMs0VA"
      }
    },
    {
      "cell_type": "markdown",
      "source": [
        "## **Visualization 3**"
      ],
      "metadata": {
        "id": "aoN9u9ZCs0g-"
      }
    },
    {
      "cell_type": "code",
      "source": [
        "# 3\n",
        "#group delay causes by hour and calculate sums\n",
        "hourly_delays = df.groupby('DepHour')[DelayCause].sum()\n",
        "\n",
        "#calculate percentages for each hour\n",
        "hourly_percentages = hourly_delays.div(hourly_delays.sum(axis=1), axis=0) * 100\n",
        "\n",
        "#create stacked area graph\n",
        "plt.figure(figsize=(17, 6))\n",
        "plt.stackplot(hourly_percentages.index,\n",
        "              hourly_percentages['CarrierDelay'],\n",
        "              hourly_percentages['WeatherDelay'],\n",
        "              hourly_percentages['NASDelay'],\n",
        "              hourly_percentages['SecurityDelay'],\n",
        "              hourly_percentages['LateAircraftDelay'],\n",
        "              labels=DelayCause,\n",
        "              colors=['#A4ADF8', '#EAA199', '#72DCC6', '#C6A4F9', '#F2C7A8'])\n",
        "\n",
        "plt.title('Percentage of Delays throughout the day')\n",
        "plt.xlabel('Hour of Day')\n",
        "plt.ylabel('Percentage of Total Delays (%)')\n",
        "plt.legend(loc='upper right')\n",
        "plt.grid(True, alpha=0.3)\n",
        "plt.ylim(0, 100)\n",
        "plt.show()"
      ],
      "metadata": {
        "id": "jL2tdoAst2K1"
      },
      "execution_count": null,
      "outputs": []
    },
    {
      "cell_type": "markdown",
      "source": [
        "### Conclusion"
      ],
      "metadata": {
        "id": "NlpSf7Gxs0zI"
      }
    },
    {
      "cell_type": "markdown",
      "source": [
        "## **Visualization 4**"
      ],
      "metadata": {
        "id": "dRLiL9wvs08a"
      }
    },
    {
      "cell_type": "code",
      "source": [
        "# 4\n",
        "# Pivot table: average arrival delay grouped by month and weekday\n",
        "pivot = df.pivot_table(\n",
        "    values='ArrDelayHours',\n",
        "    index='Month',        # months as rows\n",
        "    columns='DayOfWeek',  # weekdays as columns\n",
        "    aggfunc='mean'\n",
        ")\n",
        "\n",
        "# Replace numeric weekdays (1–7) with labels\n",
        "pivot.columns = ['Mon', 'Tue', 'Wed', 'Thu', 'Fri', 'Sat', 'Sun']\n",
        "\n",
        "# Replace numeric months (1–12) with short names\n",
        "month_labels = ['Jan', 'Feb', 'Mar', 'Apr', 'May', 'Jun',\n",
        "                'Jul', 'Aug', 'Sep', 'Oct', 'Nov', 'Dec']\n",
        "pivot.index = month_labels\n",
        "\n",
        "# Plot heatmap\n",
        "plt.figure(figsize=(9,6))\n",
        "sns.heatmap(pivot, cmap='YlOrRd', annot=False, cbar_kws={'label': 'Avg Arrival Delay (hours)'})\n",
        "plt.title('Average Arrival Delay by Month and Day of Week')\n",
        "plt.xlabel('Day of Week')\n",
        "plt.ylabel('Month')\n",
        "plt.show()"
      ],
      "metadata": {
        "id": "YzMrivSot3dn"
      },
      "execution_count": null,
      "outputs": []
    },
    {
      "cell_type": "markdown",
      "source": [
        "### Conclusion\n",
        "\n"
      ],
      "metadata": {
        "id": "eCvAOunxs1E1"
      }
    },
    {
      "cell_type": "markdown",
      "source": [
        "## **Visualization 5**"
      ],
      "metadata": {
        "id": "kbob_HGvs4GO"
      }
    },
    {
      "cell_type": "code",
      "source": [
        "# 5\n",
        "# Sum delay causes by month (for all flights)\n",
        "monthly_cause = df_raw.groupby('Month')[['CarrierDelay', 'WeatherDelay', 'NASDelay', 'LateAircraftDelay']].sum()\n",
        "\n",
        "# Calculate percentage of total delay minutes\n",
        "monthly_percent = monthly_cause.div(monthly_cause.sum().sum(), axis=0) * 100\n",
        "\n",
        "# Convert month numbers to names\n",
        "monthly_percent = monthly_percent.reset_index()\n",
        "monthly_percent['Month'] = monthly_percent['Month'].replace({\n",
        "    1:'Jan', 2:'Feb', 3:'Mar', 4:'Apr', 5:'May', 6:'Jun',\n",
        "    7:'Jul', 8:'Aug', 9:'Sep', 10:'Oct', 11:'Nov', 12:'Dec'\n",
        "})\n",
        "\n",
        "# Plot\n",
        "fig = px.area(\n",
        "    monthly_percent,\n",
        "    x='Month',\n",
        "    y=['CarrierDelay', 'WeatherDelay', 'NASDelay', 'LateAircraftDelay'],\n",
        "    title='Delay Causes by Month',\n",
        "    labels={'value':'% of Total Delay Minutes', 'variable':'Delay Cause'}\n",
        ")\n",
        "\n",
        "fig.show()"
      ],
      "metadata": {
        "id": "VDJV5egRt6ZS"
      },
      "execution_count": null,
      "outputs": []
    },
    {
      "cell_type": "markdown",
      "source": [
        "### Conclusion"
      ],
      "metadata": {
        "id": "pY1KRFiFs4Rm"
      }
    },
    {
      "cell_type": "markdown",
      "source": [
        "## **Visualisation 6**"
      ],
      "metadata": {
        "id": "MFzQjNqygAqF"
      }
    },
    {
      "cell_type": "code",
      "source": [
        "# 6\n",
        "avg_delay_carrier = df.groupby('UniqueCarrier')[['ArrDelay','DepDelay']].mean().sort_values('ArrDelay', ascending=False)\n",
        "avg_delay_carrier.plot(kind='bar', figsize=(12,6))\n",
        "plt.title(\"Average Arrival & Departure Delays by Airline\")\n",
        "plt.ylabel(\"Arrival/Departure Delay (minutes)\")\n",
        "plt.show()"
      ],
      "metadata": {
        "id": "4K8yfvx0gLVR"
      },
      "execution_count": null,
      "outputs": []
    },
    {
      "cell_type": "markdown",
      "source": [
        "## **Visualisation 7**"
      ],
      "metadata": {
        "id": "Hjwp5W4ygYlf"
      }
    },
    {
      "cell_type": "code",
      "source": [
        "# 7\n",
        "#Route-level delay patterns\n",
        "#combines origin, destination, and arrival delay\n",
        "\n",
        "# Compute mean arrival delay per route\n",
        "route_delay = (\n",
        "    df.groupby(['Origin','Dest'])\n",
        "      .agg(mean_arr_delay=('ArrDelay','mean'), n_flights=('ArrDelay','count'))\n",
        "      .reset_index()\n",
        ")\n",
        "\n",
        "# Focus on major routes (many flights)\n",
        "route_delay = route_delay[route_delay['n_flights'] > 200]\n",
        "\n",
        "# Get top 20 most delayed routes\n",
        "top_routes = route_delay.nlargest(20, 'mean_arr_delay')\n",
        "\n",
        "plt.figure(figsize=(10,6))\n",
        "sns.barplot(\n",
        "    data=top_routes.sort_values('mean_arr_delay', ascending=False),\n",
        "    y='Origin', x='mean_arr_delay', hue='Dest', dodge=False\n",
        ")\n",
        "plt.title('Top 20 Routes by Mean Arrival Delay')\n",
        "plt.xlabel('Mean Arrival Delay (minutes)')\n",
        "plt.ylabel('Origin Airport')\n",
        "plt.legend(title='Destination', bbox_to_anchor=(1.05,1), loc='upper left')\n",
        "plt.tight_layout()\n",
        "plt.show()"
      ],
      "metadata": {
        "id": "3Vnzrqx1gbUt"
      },
      "execution_count": null,
      "outputs": []
    }
  ]
}