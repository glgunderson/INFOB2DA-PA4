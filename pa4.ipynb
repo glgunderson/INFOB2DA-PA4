{
  "nbformat": 4,
  "nbformat_minor": 0,
  "metadata": {
    "colab": {
      "provenance": [],
      "authorship_tag": "ABX9TyMsUE0nHmEhP+py/aHCbqXo",
      "include_colab_link": true
    },
    "kernelspec": {
      "name": "python3",
      "display_name": "Python 3"
    },
    "language_info": {
      "name": "python"
    }
  },
  "cells": [
    {
      "cell_type": "markdown",
      "metadata": {
        "id": "view-in-github",
        "colab_type": "text"
      },
      "source": [
        "<a href=\"https://colab.research.google.com/github/glgunderson/INFOB2DA-PA4/blob/main/pa4.ipynb\" target=\"_parent\"><img src=\"https://colab.research.google.com/assets/colab-badge.svg\" alt=\"Open In Colab\"/></a>"
      ]
    },
    {
      "cell_type": "markdown",
      "source": [
        "# **Dashboard Visualizations and Coordinated View Systems**\n",
        "## Practical Assignment 4 - INFOB2DA\n",
        "*Tobias Buiten & Grace Gunderson*\n"
      ],
      "metadata": {
        "id": "-9pK8jgXqZFn"
      }
    },
    {
      "cell_type": "code",
      "execution_count": null,
      "metadata": {
        "colab": {
          "base_uri": "https://localhost:8080/",
          "height": 378
        },
        "id": "s8Mb7f6oAh5a",
        "outputId": "528d37f5-9b73-4383-dde0-f8235658aee6"
      },
      "outputs": [
        {
          "output_type": "stream",
          "name": "stdout",
          "text": [
            "  % Total    % Received % Xferd  Average Speed   Time    Time     Time  Current\n",
            "                                 Dload  Upload   Total   Spent    Left  Speed\n",
            "  0     0    0     0    0     0      0      0 --:--:-- --:--:-- --:--:--     0\n",
            "100 62.0M  100 62.0M    0     0  41.9M      0  0:00:01  0:00:01 --:--:-- 62.9M\n",
            "Archive:  DelayedFlights.zip\n",
            "  inflating: data/airlinedelaycauses_DelayedFlights.csv  \n"
          ]
        },
        {
          "output_type": "execute_result",
          "data": {
            "text/plain": [
              "   Unnamed: 0  Year  Month  DayofMonth  DayOfWeek  DepTime  CRSDepTime  \\\n",
              "0           0  2008      1           3          4   2003.0        1955   \n",
              "1           1  2008      1           3          4    754.0         735   \n",
              "2           2  2008      1           3          4    628.0         620   \n",
              "3           4  2008      1           3          4   1829.0        1755   \n",
              "4           5  2008      1           3          4   1940.0        1915   \n",
              "\n",
              "   ArrTime  CRSArrTime UniqueCarrier  ...  TaxiIn TaxiOut  Cancelled  \\\n",
              "0   2211.0        2225            WN  ...     4.0     8.0          0   \n",
              "1   1002.0        1000            WN  ...     5.0    10.0          0   \n",
              "2    804.0         750            WN  ...     3.0    17.0          0   \n",
              "3   1959.0        1925            WN  ...     3.0    10.0          0   \n",
              "4   2121.0        2110            WN  ...     4.0    10.0          0   \n",
              "\n",
              "   CancellationCode  Diverted  CarrierDelay  WeatherDelay NASDelay  \\\n",
              "0                 N         0           NaN           NaN      NaN   \n",
              "1                 N         0           NaN           NaN      NaN   \n",
              "2                 N         0           NaN           NaN      NaN   \n",
              "3                 N         0           2.0           0.0      0.0   \n",
              "4                 N         0           NaN           NaN      NaN   \n",
              "\n",
              "  SecurityDelay  LateAircraftDelay  \n",
              "0           NaN                NaN  \n",
              "1           NaN                NaN  \n",
              "2           NaN                NaN  \n",
              "3           0.0               32.0  \n",
              "4           NaN                NaN  \n",
              "\n",
              "[5 rows x 30 columns]"
            ],
            "text/html": [
              "\n",
              "  <div id=\"df-e0232710-2548-4238-9786-8192e191a86d\" class=\"colab-df-container\">\n",
              "    <div>\n",
              "<style scoped>\n",
              "    .dataframe tbody tr th:only-of-type {\n",
              "        vertical-align: middle;\n",
              "    }\n",
              "\n",
              "    .dataframe tbody tr th {\n",
              "        vertical-align: top;\n",
              "    }\n",
              "\n",
              "    .dataframe thead th {\n",
              "        text-align: right;\n",
              "    }\n",
              "</style>\n",
              "<table border=\"1\" class=\"dataframe\">\n",
              "  <thead>\n",
              "    <tr style=\"text-align: right;\">\n",
              "      <th></th>\n",
              "      <th>Unnamed: 0</th>\n",
              "      <th>Year</th>\n",
              "      <th>Month</th>\n",
              "      <th>DayofMonth</th>\n",
              "      <th>DayOfWeek</th>\n",
              "      <th>DepTime</th>\n",
              "      <th>CRSDepTime</th>\n",
              "      <th>ArrTime</th>\n",
              "      <th>CRSArrTime</th>\n",
              "      <th>UniqueCarrier</th>\n",
              "      <th>...</th>\n",
              "      <th>TaxiIn</th>\n",
              "      <th>TaxiOut</th>\n",
              "      <th>Cancelled</th>\n",
              "      <th>CancellationCode</th>\n",
              "      <th>Diverted</th>\n",
              "      <th>CarrierDelay</th>\n",
              "      <th>WeatherDelay</th>\n",
              "      <th>NASDelay</th>\n",
              "      <th>SecurityDelay</th>\n",
              "      <th>LateAircraftDelay</th>\n",
              "    </tr>\n",
              "  </thead>\n",
              "  <tbody>\n",
              "    <tr>\n",
              "      <th>0</th>\n",
              "      <td>0</td>\n",
              "      <td>2008</td>\n",
              "      <td>1</td>\n",
              "      <td>3</td>\n",
              "      <td>4</td>\n",
              "      <td>2003.0</td>\n",
              "      <td>1955</td>\n",
              "      <td>2211.0</td>\n",
              "      <td>2225</td>\n",
              "      <td>WN</td>\n",
              "      <td>...</td>\n",
              "      <td>4.0</td>\n",
              "      <td>8.0</td>\n",
              "      <td>0</td>\n",
              "      <td>N</td>\n",
              "      <td>0</td>\n",
              "      <td>NaN</td>\n",
              "      <td>NaN</td>\n",
              "      <td>NaN</td>\n",
              "      <td>NaN</td>\n",
              "      <td>NaN</td>\n",
              "    </tr>\n",
              "    <tr>\n",
              "      <th>1</th>\n",
              "      <td>1</td>\n",
              "      <td>2008</td>\n",
              "      <td>1</td>\n",
              "      <td>3</td>\n",
              "      <td>4</td>\n",
              "      <td>754.0</td>\n",
              "      <td>735</td>\n",
              "      <td>1002.0</td>\n",
              "      <td>1000</td>\n",
              "      <td>WN</td>\n",
              "      <td>...</td>\n",
              "      <td>5.0</td>\n",
              "      <td>10.0</td>\n",
              "      <td>0</td>\n",
              "      <td>N</td>\n",
              "      <td>0</td>\n",
              "      <td>NaN</td>\n",
              "      <td>NaN</td>\n",
              "      <td>NaN</td>\n",
              "      <td>NaN</td>\n",
              "      <td>NaN</td>\n",
              "    </tr>\n",
              "    <tr>\n",
              "      <th>2</th>\n",
              "      <td>2</td>\n",
              "      <td>2008</td>\n",
              "      <td>1</td>\n",
              "      <td>3</td>\n",
              "      <td>4</td>\n",
              "      <td>628.0</td>\n",
              "      <td>620</td>\n",
              "      <td>804.0</td>\n",
              "      <td>750</td>\n",
              "      <td>WN</td>\n",
              "      <td>...</td>\n",
              "      <td>3.0</td>\n",
              "      <td>17.0</td>\n",
              "      <td>0</td>\n",
              "      <td>N</td>\n",
              "      <td>0</td>\n",
              "      <td>NaN</td>\n",
              "      <td>NaN</td>\n",
              "      <td>NaN</td>\n",
              "      <td>NaN</td>\n",
              "      <td>NaN</td>\n",
              "    </tr>\n",
              "    <tr>\n",
              "      <th>3</th>\n",
              "      <td>4</td>\n",
              "      <td>2008</td>\n",
              "      <td>1</td>\n",
              "      <td>3</td>\n",
              "      <td>4</td>\n",
              "      <td>1829.0</td>\n",
              "      <td>1755</td>\n",
              "      <td>1959.0</td>\n",
              "      <td>1925</td>\n",
              "      <td>WN</td>\n",
              "      <td>...</td>\n",
              "      <td>3.0</td>\n",
              "      <td>10.0</td>\n",
              "      <td>0</td>\n",
              "      <td>N</td>\n",
              "      <td>0</td>\n",
              "      <td>2.0</td>\n",
              "      <td>0.0</td>\n",
              "      <td>0.0</td>\n",
              "      <td>0.0</td>\n",
              "      <td>32.0</td>\n",
              "    </tr>\n",
              "    <tr>\n",
              "      <th>4</th>\n",
              "      <td>5</td>\n",
              "      <td>2008</td>\n",
              "      <td>1</td>\n",
              "      <td>3</td>\n",
              "      <td>4</td>\n",
              "      <td>1940.0</td>\n",
              "      <td>1915</td>\n",
              "      <td>2121.0</td>\n",
              "      <td>2110</td>\n",
              "      <td>WN</td>\n",
              "      <td>...</td>\n",
              "      <td>4.0</td>\n",
              "      <td>10.0</td>\n",
              "      <td>0</td>\n",
              "      <td>N</td>\n",
              "      <td>0</td>\n",
              "      <td>NaN</td>\n",
              "      <td>NaN</td>\n",
              "      <td>NaN</td>\n",
              "      <td>NaN</td>\n",
              "      <td>NaN</td>\n",
              "    </tr>\n",
              "  </tbody>\n",
              "</table>\n",
              "<p>5 rows × 30 columns</p>\n",
              "</div>\n",
              "    <div class=\"colab-df-buttons\">\n",
              "\n",
              "  <div class=\"colab-df-container\">\n",
              "    <button class=\"colab-df-convert\" onclick=\"convertToInteractive('df-e0232710-2548-4238-9786-8192e191a86d')\"\n",
              "            title=\"Convert this dataframe to an interactive table.\"\n",
              "            style=\"display:none;\">\n",
              "\n",
              "  <svg xmlns=\"http://www.w3.org/2000/svg\" height=\"24px\" viewBox=\"0 -960 960 960\">\n",
              "    <path d=\"M120-120v-720h720v720H120Zm60-500h600v-160H180v160Zm220 220h160v-160H400v160Zm0 220h160v-160H400v160ZM180-400h160v-160H180v160Zm440 0h160v-160H620v160ZM180-180h160v-160H180v160Zm440 0h160v-160H620v160Z\"/>\n",
              "  </svg>\n",
              "    </button>\n",
              "\n",
              "  <style>\n",
              "    .colab-df-container {\n",
              "      display:flex;\n",
              "      gap: 12px;\n",
              "    }\n",
              "\n",
              "    .colab-df-convert {\n",
              "      background-color: #E8F0FE;\n",
              "      border: none;\n",
              "      border-radius: 50%;\n",
              "      cursor: pointer;\n",
              "      display: none;\n",
              "      fill: #1967D2;\n",
              "      height: 32px;\n",
              "      padding: 0 0 0 0;\n",
              "      width: 32px;\n",
              "    }\n",
              "\n",
              "    .colab-df-convert:hover {\n",
              "      background-color: #E2EBFA;\n",
              "      box-shadow: 0px 1px 2px rgba(60, 64, 67, 0.3), 0px 1px 3px 1px rgba(60, 64, 67, 0.15);\n",
              "      fill: #174EA6;\n",
              "    }\n",
              "\n",
              "    .colab-df-buttons div {\n",
              "      margin-bottom: 4px;\n",
              "    }\n",
              "\n",
              "    [theme=dark] .colab-df-convert {\n",
              "      background-color: #3B4455;\n",
              "      fill: #D2E3FC;\n",
              "    }\n",
              "\n",
              "    [theme=dark] .colab-df-convert:hover {\n",
              "      background-color: #434B5C;\n",
              "      box-shadow: 0px 1px 3px 1px rgba(0, 0, 0, 0.15);\n",
              "      filter: drop-shadow(0px 1px 2px rgba(0, 0, 0, 0.3));\n",
              "      fill: #FFFFFF;\n",
              "    }\n",
              "  </style>\n",
              "\n",
              "    <script>\n",
              "      const buttonEl =\n",
              "        document.querySelector('#df-e0232710-2548-4238-9786-8192e191a86d button.colab-df-convert');\n",
              "      buttonEl.style.display =\n",
              "        google.colab.kernel.accessAllowed ? 'block' : 'none';\n",
              "\n",
              "      async function convertToInteractive(key) {\n",
              "        const element = document.querySelector('#df-e0232710-2548-4238-9786-8192e191a86d');\n",
              "        const dataTable =\n",
              "          await google.colab.kernel.invokeFunction('convertToInteractive',\n",
              "                                                    [key], {});\n",
              "        if (!dataTable) return;\n",
              "\n",
              "        const docLinkHtml = 'Like what you see? Visit the ' +\n",
              "          '<a target=\"_blank\" href=https://colab.research.google.com/notebooks/data_table.ipynb>data table notebook</a>'\n",
              "          + ' to learn more about interactive tables.';\n",
              "        element.innerHTML = '';\n",
              "        dataTable['output_type'] = 'display_data';\n",
              "        await google.colab.output.renderOutput(dataTable, element);\n",
              "        const docLink = document.createElement('div');\n",
              "        docLink.innerHTML = docLinkHtml;\n",
              "        element.appendChild(docLink);\n",
              "      }\n",
              "    </script>\n",
              "  </div>\n",
              "\n",
              "\n",
              "    <div id=\"df-25c9b6d4-d724-4475-95c4-ccd0546b09a6\">\n",
              "      <button class=\"colab-df-quickchart\" onclick=\"quickchart('df-25c9b6d4-d724-4475-95c4-ccd0546b09a6')\"\n",
              "                title=\"Suggest charts\"\n",
              "                style=\"display:none;\">\n",
              "\n",
              "<svg xmlns=\"http://www.w3.org/2000/svg\" height=\"24px\"viewBox=\"0 0 24 24\"\n",
              "     width=\"24px\">\n",
              "    <g>\n",
              "        <path d=\"M19 3H5c-1.1 0-2 .9-2 2v14c0 1.1.9 2 2 2h14c1.1 0 2-.9 2-2V5c0-1.1-.9-2-2-2zM9 17H7v-7h2v7zm4 0h-2V7h2v10zm4 0h-2v-4h2v4z\"/>\n",
              "    </g>\n",
              "</svg>\n",
              "      </button>\n",
              "\n",
              "<style>\n",
              "  .colab-df-quickchart {\n",
              "      --bg-color: #E8F0FE;\n",
              "      --fill-color: #1967D2;\n",
              "      --hover-bg-color: #E2EBFA;\n",
              "      --hover-fill-color: #174EA6;\n",
              "      --disabled-fill-color: #AAA;\n",
              "      --disabled-bg-color: #DDD;\n",
              "  }\n",
              "\n",
              "  [theme=dark] .colab-df-quickchart {\n",
              "      --bg-color: #3B4455;\n",
              "      --fill-color: #D2E3FC;\n",
              "      --hover-bg-color: #434B5C;\n",
              "      --hover-fill-color: #FFFFFF;\n",
              "      --disabled-bg-color: #3B4455;\n",
              "      --disabled-fill-color: #666;\n",
              "  }\n",
              "\n",
              "  .colab-df-quickchart {\n",
              "    background-color: var(--bg-color);\n",
              "    border: none;\n",
              "    border-radius: 50%;\n",
              "    cursor: pointer;\n",
              "    display: none;\n",
              "    fill: var(--fill-color);\n",
              "    height: 32px;\n",
              "    padding: 0;\n",
              "    width: 32px;\n",
              "  }\n",
              "\n",
              "  .colab-df-quickchart:hover {\n",
              "    background-color: var(--hover-bg-color);\n",
              "    box-shadow: 0 1px 2px rgba(60, 64, 67, 0.3), 0 1px 3px 1px rgba(60, 64, 67, 0.15);\n",
              "    fill: var(--button-hover-fill-color);\n",
              "  }\n",
              "\n",
              "  .colab-df-quickchart-complete:disabled,\n",
              "  .colab-df-quickchart-complete:disabled:hover {\n",
              "    background-color: var(--disabled-bg-color);\n",
              "    fill: var(--disabled-fill-color);\n",
              "    box-shadow: none;\n",
              "  }\n",
              "\n",
              "  .colab-df-spinner {\n",
              "    border: 2px solid var(--fill-color);\n",
              "    border-color: transparent;\n",
              "    border-bottom-color: var(--fill-color);\n",
              "    animation:\n",
              "      spin 1s steps(1) infinite;\n",
              "  }\n",
              "\n",
              "  @keyframes spin {\n",
              "    0% {\n",
              "      border-color: transparent;\n",
              "      border-bottom-color: var(--fill-color);\n",
              "      border-left-color: var(--fill-color);\n",
              "    }\n",
              "    20% {\n",
              "      border-color: transparent;\n",
              "      border-left-color: var(--fill-color);\n",
              "      border-top-color: var(--fill-color);\n",
              "    }\n",
              "    30% {\n",
              "      border-color: transparent;\n",
              "      border-left-color: var(--fill-color);\n",
              "      border-top-color: var(--fill-color);\n",
              "      border-right-color: var(--fill-color);\n",
              "    }\n",
              "    40% {\n",
              "      border-color: transparent;\n",
              "      border-right-color: var(--fill-color);\n",
              "      border-top-color: var(--fill-color);\n",
              "    }\n",
              "    60% {\n",
              "      border-color: transparent;\n",
              "      border-right-color: var(--fill-color);\n",
              "    }\n",
              "    80% {\n",
              "      border-color: transparent;\n",
              "      border-right-color: var(--fill-color);\n",
              "      border-bottom-color: var(--fill-color);\n",
              "    }\n",
              "    90% {\n",
              "      border-color: transparent;\n",
              "      border-bottom-color: var(--fill-color);\n",
              "    }\n",
              "  }\n",
              "</style>\n",
              "\n",
              "      <script>\n",
              "        async function quickchart(key) {\n",
              "          const quickchartButtonEl =\n",
              "            document.querySelector('#' + key + ' button');\n",
              "          quickchartButtonEl.disabled = true;  // To prevent multiple clicks.\n",
              "          quickchartButtonEl.classList.add('colab-df-spinner');\n",
              "          try {\n",
              "            const charts = await google.colab.kernel.invokeFunction(\n",
              "                'suggestCharts', [key], {});\n",
              "          } catch (error) {\n",
              "            console.error('Error during call to suggestCharts:', error);\n",
              "          }\n",
              "          quickchartButtonEl.classList.remove('colab-df-spinner');\n",
              "          quickchartButtonEl.classList.add('colab-df-quickchart-complete');\n",
              "        }\n",
              "        (() => {\n",
              "          let quickchartButtonEl =\n",
              "            document.querySelector('#df-25c9b6d4-d724-4475-95c4-ccd0546b09a6 button');\n",
              "          quickchartButtonEl.style.display =\n",
              "            google.colab.kernel.accessAllowed ? 'block' : 'none';\n",
              "        })();\n",
              "      </script>\n",
              "    </div>\n",
              "\n",
              "    </div>\n",
              "  </div>\n"
            ],
            "application/vnd.google.colaboratory.intrinsic+json": {
              "type": "dataframe",
              "variable_name": "df"
            }
          },
          "metadata": {},
          "execution_count": 5
        }
      ],
      "source": [
        "# Download Dataset from GitHub Releases & Unzip Large Dataset\n",
        "!curl -L -o DelayedFlights.zip \"https://github.com/glgunderson/INFOB2DA-PA4/releases/download/PA4.DATA/DelayedFlights.zip\"\n",
        "!unzip -o DelayedFlights.zip -d data\n",
        "\n",
        "import pandas as pd\n",
        "\n",
        "# Load and Preview Dataset\n",
        "df = pd.read_csv('data/airlinedelaycauses_DelayedFlights.csv')\n",
        "df.head()"
      ]
    },
    {
      "cell_type": "markdown",
      "source": [
        "## Dataset Overview\n",
        "\n",
        "### DOT’S Air Travel Consumer Report:\n",
        "The U.S. Department of Transportation’s (DOT) Bureau of Transportation Statistics (BTS) tracks the **on-time performance** of domestic flights operated by large air carriers.\n",
        "- DOT provides **monthly summary information** on the number of on-time, delayed, cancelled and diverted flights.\n",
        "- BTS collects details on the **causes of flight delays** and releases summary statistics and raw data.\n"
      ],
      "metadata": {
        "id": "AkQ4TcaqG2MV"
      }
    },
    {
      "cell_type": "markdown",
      "source": [
        "## Summary Statistics"
      ],
      "metadata": {
        "id": "6wgAEROusSRb"
      }
    },
    {
      "cell_type": "code",
      "source": [],
      "metadata": {
        "id": "UoRxB8tKsfw5"
      },
      "execution_count": null,
      "outputs": []
    },
    {
      "cell_type": "code",
      "source": [
        "# Understand the dataset\n",
        "df.info()\n",
        "df.shape"
      ],
      "metadata": {
        "colab": {
          "base_uri": "https://localhost:8080/"
        },
        "id": "3OT4xV2s1BYu",
        "outputId": "332cbc75-0e26-4e5d-aaa0-ac911468a748"
      },
      "execution_count": null,
      "outputs": [
        {
          "output_type": "stream",
          "name": "stdout",
          "text": [
            "<class 'pandas.core.frame.DataFrame'>\n",
            "RangeIndex: 1936758 entries, 0 to 1936757\n",
            "Data columns (total 30 columns):\n",
            " #   Column             Dtype  \n",
            "---  ------             -----  \n",
            " 0   Unnamed: 0         int64  \n",
            " 1   Year               int64  \n",
            " 2   Month              int64  \n",
            " 3   DayofMonth         int64  \n",
            " 4   DayOfWeek          int64  \n",
            " 5   DepTime            float64\n",
            " 6   CRSDepTime         int64  \n",
            " 7   ArrTime            float64\n",
            " 8   CRSArrTime         int64  \n",
            " 9   UniqueCarrier      object \n",
            " 10  FlightNum          int64  \n",
            " 11  TailNum            object \n",
            " 12  ActualElapsedTime  float64\n",
            " 13  CRSElapsedTime     float64\n",
            " 14  AirTime            float64\n",
            " 15  ArrDelay           float64\n",
            " 16  DepDelay           float64\n",
            " 17  Origin             object \n",
            " 18  Dest               object \n",
            " 19  Distance           int64  \n",
            " 20  TaxiIn             float64\n",
            " 21  TaxiOut            float64\n",
            " 22  Cancelled          int64  \n",
            " 23  CancellationCode   object \n",
            " 24  Diverted           int64  \n",
            " 25  CarrierDelay       float64\n",
            " 26  WeatherDelay       float64\n",
            " 27  NASDelay           float64\n",
            " 28  SecurityDelay      float64\n",
            " 29  LateAircraftDelay  float64\n",
            "dtypes: float64(14), int64(11), object(5)\n",
            "memory usage: 443.3+ MB\n"
          ]
        },
        {
          "output_type": "execute_result",
          "data": {
            "text/plain": [
              "(1936758, 30)"
            ]
          },
          "metadata": {},
          "execution_count": 6
        }
      ]
    },
    {
      "cell_type": "markdown",
      "source": [
        "The initial output upon loading the *full raw dataset* includes:\n",
        "- **1.936.758** rows (flights) x 30 columns (features)\n",
        "- The columns consist of both numeric (int64, float64) and categorical (object) features, including:\n",
        "  - 14 float variables (e.g., DepTime, ArrTime, DepDelay, ArrDelay)\n",
        "  - 11 integer variables (e.g., Year, Month, DayOfWeek, FlightNum)\n",
        "  - 5 object variables (e.g., UniqueCarrier, Origin, Dest)\n",
        "- The first column, **Unnamed: 0**, is an index column automatically generated when the dataset during export and  to CSV does not represent a meaningful feature.\n",
        "  - It will will be removed in later preprocessing, leaving 29 features (e.g., Year, Month, DepDelay, ArrDelay, CarrierDelay, etc.) for analysis.\n",
        "\n",
        "\n",
        "The dataset *should* include:\n",
        "- Flight delay metrics for **1.247.486** different flights.\n",
        "- **30 different features**, both numerical and categorical.\n",
        "\n",
        "*The discrepancy between the ~1.94 million rows in this raw file and the ~1.25 million flight records referenced in cleaned versions of this dataset occurs because the raw data includes cancelled, diverted, and incomplete flight records that are excluded after preprocessing.*"
      ],
      "metadata": {
        "id": "RtLnAJ0prNEN"
      }
    },
    {
      "cell_type": "code",
      "source": [
        "# Data Cleaning and Preprocessing\n",
        "\n",
        "# Remove unnecessary index column\n",
        "df = df.drop(columns=['Unnamed: 0'])\n",
        "\n",
        "# Remove cancelled or diverted flights\n",
        "df = df[(df['Cancelled'] == 0) & (df['Diverted'] == 0)]\n",
        "\n",
        "# Drop rows with missing essential delay information\n",
        "df = df.dropna(subset=['DepDelay', 'ArrDelay'])\n",
        "\n",
        "# Fill missing delay cause columns with 0 (no delay recorded)\n",
        "delay_cols = ['CarrierDelay', 'WeatherDelay', 'NASDelay', 'SecurityDelay', 'LateAircraftDelay']\n",
        "df[delay_cols] = df[delay_cols].fillna(0)\n",
        "\n",
        "# Remove duplicate rows (if any)\n",
        "df = df.drop_duplicates()\n",
        "\n",
        "# Confirm dataset shape and structure\n",
        "print(\"Cleaned dataset shape:\", df.shape)\n",
        "df.info()"
      ],
      "metadata": {
        "colab": {
          "base_uri": "https://localhost:8080/"
        },
        "id": "4NzSW3UJ9iAm",
        "outputId": "ba33e017-17d0-415d-a0da-3af53d725cbf"
      },
      "execution_count": null,
      "outputs": [
        {
          "output_type": "stream",
          "name": "stdout",
          "text": [
            "Cleaned dataset shape: (1928369, 29)\n",
            "<class 'pandas.core.frame.DataFrame'>\n",
            "Index: 1928369 entries, 0 to 1936757\n",
            "Data columns (total 29 columns):\n",
            " #   Column             Dtype  \n",
            "---  ------             -----  \n",
            " 0   Year               int64  \n",
            " 1   Month              int64  \n",
            " 2   DayofMonth         int64  \n",
            " 3   DayOfWeek          int64  \n",
            " 4   DepTime            float64\n",
            " 5   CRSDepTime         int64  \n",
            " 6   ArrTime            float64\n",
            " 7   CRSArrTime         int64  \n",
            " 8   UniqueCarrier      object \n",
            " 9   FlightNum          int64  \n",
            " 10  TailNum            object \n",
            " 11  ActualElapsedTime  float64\n",
            " 12  CRSElapsedTime     float64\n",
            " 13  AirTime            float64\n",
            " 14  ArrDelay           float64\n",
            " 15  DepDelay           float64\n",
            " 16  Origin             object \n",
            " 17  Dest               object \n",
            " 18  Distance           int64  \n",
            " 19  TaxiIn             float64\n",
            " 20  TaxiOut            float64\n",
            " 21  Cancelled          int64  \n",
            " 22  CancellationCode   object \n",
            " 23  Diverted           int64  \n",
            " 24  CarrierDelay       float64\n",
            " 25  WeatherDelay       float64\n",
            " 26  NASDelay           float64\n",
            " 27  SecurityDelay      float64\n",
            " 28  LateAircraftDelay  float64\n",
            "dtypes: float64(14), int64(10), object(5)\n",
            "memory usage: 441.4+ MB\n"
          ]
        }
      ]
    },
    {
      "cell_type": "markdown",
      "source": [
        "## Analyze Dataset"
      ],
      "metadata": {
        "id": "tIBNe7UurznH"
      }
    },
    {
      "cell_type": "code",
      "source": [
        "# Experiment with basic charts/visualizations"
      ],
      "metadata": {
        "id": "r5nt78GysESY"
      },
      "execution_count": null,
      "outputs": []
    },
    {
      "cell_type": "markdown",
      "source": [
        "# **INTERACTIVE VISUALIZATION DASHBOARD**"
      ],
      "metadata": {
        "id": "jyQF567pr6IU"
      }
    },
    {
      "cell_type": "markdown",
      "source": [
        "## **Visualization 1**"
      ],
      "metadata": {
        "id": "VDl8g5vLsxkM"
      }
    },
    {
      "cell_type": "code",
      "source": [
        "# 1"
      ],
      "metadata": {
        "id": "KZ5mA78Yty4h"
      },
      "execution_count": null,
      "outputs": []
    },
    {
      "cell_type": "markdown",
      "source": [
        "### Conclusion"
      ],
      "metadata": {
        "id": "8ZUiJg_Vszyi"
      }
    },
    {
      "cell_type": "markdown",
      "source": [
        "## **Visualization 2**"
      ],
      "metadata": {
        "id": "_X1-K_Dds0GY"
      }
    },
    {
      "cell_type": "code",
      "source": [
        "# 2"
      ],
      "metadata": {
        "id": "zky6WduTt1DZ"
      },
      "execution_count": null,
      "outputs": []
    },
    {
      "cell_type": "markdown",
      "source": [
        "### Conclusion"
      ],
      "metadata": {
        "id": "HT5jW5DMs0VA"
      }
    },
    {
      "cell_type": "markdown",
      "source": [
        "## **Visualization 3**"
      ],
      "metadata": {
        "id": "aoN9u9ZCs0g-"
      }
    },
    {
      "cell_type": "code",
      "source": [
        "# 3"
      ],
      "metadata": {
        "id": "jL2tdoAst2K1"
      },
      "execution_count": null,
      "outputs": []
    },
    {
      "cell_type": "markdown",
      "source": [
        "### Conclusion"
      ],
      "metadata": {
        "id": "NlpSf7Gxs0zI"
      }
    },
    {
      "cell_type": "markdown",
      "source": [
        "## **Visualization 4**"
      ],
      "metadata": {
        "id": "dRLiL9wvs08a"
      }
    },
    {
      "cell_type": "code",
      "source": [
        "# 4"
      ],
      "metadata": {
        "id": "YzMrivSot3dn"
      },
      "execution_count": null,
      "outputs": []
    },
    {
      "cell_type": "markdown",
      "source": [
        "### Conclusion\n",
        "\n"
      ],
      "metadata": {
        "id": "eCvAOunxs1E1"
      }
    },
    {
      "cell_type": "markdown",
      "source": [
        "## **Visualization 5**"
      ],
      "metadata": {
        "id": "kbob_HGvs4GO"
      }
    },
    {
      "cell_type": "code",
      "source": [
        "# 5"
      ],
      "metadata": {
        "id": "VDJV5egRt6ZS"
      },
      "execution_count": null,
      "outputs": []
    },
    {
      "cell_type": "markdown",
      "source": [
        "### Conclusion"
      ],
      "metadata": {
        "id": "pY1KRFiFs4Rm"
      }
    }
  ]
}