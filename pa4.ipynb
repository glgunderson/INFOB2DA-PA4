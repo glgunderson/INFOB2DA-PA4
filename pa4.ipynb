{
  "nbformat": 4,
  "nbformat_minor": 0,
  "metadata": {
    "colab": {
      "provenance": [],
      "include_colab_link": true
    },
    "kernelspec": {
      "name": "python3",
      "display_name": "Python 3"
    },
    "language_info": {
      "name": "python"
    }
  },
  "cells": [
    {
      "cell_type": "markdown",
      "metadata": {
        "id": "view-in-github",
        "colab_type": "text"
      },
      "source": [
        "<a href=\"https://colab.research.google.com/github/glgunderson/INFOB2DA-PA4/blob/main/pa4.ipynb\" target=\"_parent\"><img src=\"https://colab.research.google.com/assets/colab-badge.svg\" alt=\"Open In Colab\"/></a>"
      ]
    },
    {
      "cell_type": "markdown",
      "source": [
        "# **Dashboard Visualizations and Coordinated View Systems**\n",
        "## Practical Assignment 4 - INFOB2DA\n",
        "*Tobias Buiten & Grace Gunderson*\n"
      ],
      "metadata": {
        "id": "-9pK8jgXqZFn"
      }
    },
    {
      "cell_type": "code",
      "source": [
        "# Import Relevant Libraries for Level 2 Visualization\n",
        "import pandas as pd\n",
        "import numpy as np\n",
        "import matplotlib.pyplot as plt\n",
        "import seaborn as sns\n",
        "import plotly.express as px"
      ],
      "metadata": {
        "id": "nMtLaNkGQ56u"
      },
      "execution_count": null,
      "outputs": []
    },
    {
      "cell_type": "code",
      "execution_count": null,
      "metadata": {
        "id": "s8Mb7f6oAh5a"
      },
      "outputs": [],
      "source": [
        "# Download Dataset from GitHub Release & Unzip Large Dataset\n",
        "!curl -L -o DelayedFlights.zip \"https://github.com/glgunderson/INFOB2DA-PA4/releases/download/PA4.DATA/DelayedFlights.zip\"\n",
        "!unzip -o DelayedFlights.zip -d data\n",
        "\n",
        "import pandas as pd\n",
        "\n",
        "# Load Dataset\n",
        "df_raw = pd.read_csv('data/airlinedelaycauses_DelayedFlights.csv')\n",
        "\n",
        "# Copy Dataset for Preprocessing (Delayed Flights)\n",
        "df = df_raw.copy()\n",
        "\n",
        "# Copy Dataset for Comparison (Delayed vs. All Flights)\n",
        "df_all = df_raw.copy()\n",
        "\n",
        "# Preview Dataset\n",
        "df_raw.head()"
      ]
    },
    {
      "cell_type": "markdown",
      "source": [
        "## Dataset Overview\n",
        "\n",
        "### DOT’S Air Travel Consumer Report:\n",
        "The U.S. Department of Transportation’s (DOT) Bureau of Transportation Statistics (BTS) tracks the **on-time performance** of domestic flights operated by large air carriers.\n",
        "- DOT provides **monthly summary information** on the number of on-time, delayed, cancelled and diverted flights.\n",
        "- BTS collects details on the **causes of flight delays** and releases summary statistics and raw data.\n"
      ],
      "metadata": {
        "id": "AkQ4TcaqG2MV"
      }
    },
    {
      "cell_type": "markdown",
      "source": [
        "## Relevant Features\n",
        "\n",
        "Time-Related Features\n",
        "- `Month` (1-12) / `DayOfMonth` (1-31) / `DayOfWeek` (1-7) — calendar indicators for each flight.\n",
        "- `DepTime` / `ArrTime` — actual departure and arrival times (in HHMM format).\n",
        "- `CRSDepTime` / `CRSArrTime` — scheduled departure and arrival times (in HHMM format).\n",
        "- `DepHour` / `ArrHour` — derived from scheduled times, showing the hour of day (0–23) - *AFTER PREPROCESSING*\n",
        "\n",
        "Flight Details\n",
        "- `Distance` — flight distance in miles.\n",
        "  - `DistanceGroup` — categorized distance range (<500, 500–1000, etc.) - *AFTER PREPROCESSING*\n",
        "- `AirTime` — total time spent in the air (minutes).\n",
        "- `ActualElapsedTime` / `CRSElapsedTime` — actual vs. scheduled total flight durations (minutes).\n",
        "\n",
        "Delay Metrics\n",
        "- `DepDelay` / `ArrDelay` — minutes delayed at departure and arrival.\n",
        "  - `DepDelayHours` / `ArrDelayHours` — same delays converted to hours for easier interpretation - *AFTER PREPROCESSING*\n",
        "- `CarrierDelay` / `WeatherDelay` / `NASDelay` / `SecurityDelay` / LateAircraftDelay — minutes of delay attributed to specific causes.\n",
        "\n",
        "Operational Flags\n",
        "- `Cancelled` / `Diverted` — binary indicators (1 = yes, 0 = no).\n",
        "- `UniqueCarrier` — airline carrier code (e.g., AA, DL, UA).\n",
        "- `Origin` / `Dest` — airport codes for departure and arrival locations.\n"
      ],
      "metadata": {
        "id": "rsgYEMZauqDd"
      }
    },
    {
      "cell_type": "markdown",
      "source": [
        "## Summary Statistics"
      ],
      "metadata": {
        "id": "6wgAEROusSRb"
      }
    },
    {
      "cell_type": "code",
      "source": [
        "# Understand the dataset\n",
        "df_raw.info()\n",
        "df_raw.shape"
      ],
      "metadata": {
        "id": "3OT4xV2s1BYu"
      },
      "execution_count": null,
      "outputs": []
    },
    {
      "cell_type": "code",
      "source": [
        "# Basic Summary Statistics\n",
        "df_raw.describe().T"
      ],
      "metadata": {
        "id": "VOEncVI_KyfH"
      },
      "execution_count": null,
      "outputs": []
    },
    {
      "cell_type": "markdown",
      "source": [
        "### Understanding the Dataset\n",
        "The initial output upon loading the *full raw dataset* includes:\n",
        "- **1,936,758 rows (flights) x 30 columns (features)**\n",
        "- The columns consist of both numeric (`int64`, `float64`) and categorical (`object`) features, including:\n",
        "  - 14 float variables (e.g., `DepTime`, `ArrTime`, `DepDelay`, `ArrDelay`)\n",
        "  - 11 integer variables (e.g., `Year`, `Month`, `DayofWeek`, `FlightNum`)\n",
        "  - 5 object variables (e.g., `UniqueCarrier`, `Origin`, `Dest`)  \n",
        "\n",
        "According to PA4, the dataset *should* include:\n",
        "- Flight delay metrics for **1,247,486** different flights.\n",
        "- **30 different features**, both numerical and categorical.\n",
        "\n",
        "### Understanding the Record Discrepancy\n",
        "The difference between the ~1.94 million and ~1.25 million flight records is explained by *dataset scope*.\n",
        "- The full raw dataset (**1,936,758 rows**) includes **all scheduled flights** in 2008 - whether they were on time, delayed, cancelled, or diverted.\n",
        "- Only a subset of the flight records (**1,247,488 rows**) contain complete **delay-related data** (`CarrierDelay`, `WeatherDelay`, `NASDelay`, `SecurityDelay`, `LateAircraftDelay`).\n",
        "  - These represent flights that actually experienced a *delay event*, which is the primary focus of this data analysis.\n",
        "\n",
        "***As a result, preprocessing and subsequent visualizations are performed by isolating this ~1.25M delayed-flight subset to ensure meaningful data analysis.***"
      ],
      "metadata": {
        "id": "RtLnAJ0prNEN"
      }
    },
    {
      "cell_type": "markdown",
      "source": [
        "## Preprocessing"
      ],
      "metadata": {
        "id": "zvlI37DVIEFe"
      }
    },
    {
      "cell_type": "code",
      "source": [
        "# PREPROCESSING - DELAYED FLIGHT DATA (df)\n",
        "\n",
        "# 1. Drop redundant/irrelevant columns\n",
        "df = df.drop(columns=['Unnamed: 0', 'Year', 'FlightNum', 'TailNum', 'CancellationCode'], errors='ignore')\n",
        "\n",
        "# 2. Remove cancelled or diverted flights\n",
        "df = df[(df['Cancelled'] == 0) & (df['Diverted'] == 0)]\n",
        "\n",
        "# 3. Identify records with complete delay-cause data\n",
        "DelayCause = ['CarrierDelay', 'WeatherDelay', 'NASDelay', 'SecurityDelay', 'LateAircraftDelay']\n",
        "df = df.dropna(subset=DelayCause)\n",
        "\n",
        "# 4. Fill missing delay-cause values (NaN) with 0\n",
        "df[DelayCause] = df[DelayCause].fillna(0)\n",
        "\n",
        "# 5. Clip negative delay values (representing early arrivals) to 0\n",
        "df['ArrDelay'] = df['ArrDelay'].clip(lower=0)\n",
        "\n",
        "# 6. Derive new time-based features for later visualization\n",
        "df['DepHour'] = (df['DepTime'] // 100).astype(int)\n",
        "df['ArrHour'] = (df['ArrTime'] // 100).astype(int)\n",
        "\n",
        "# 7. Convert arrival/departure delays from minutes to hours\n",
        "df['ArrDelayHours'] = (df['ArrDelay'] / 60).astype('float64')\n",
        "df['DepDelayHours'] = (df['DepDelay'] / 60).astype('float64')\n",
        "\n",
        "# 8. Create distance categories (in miles)\n",
        "df['DistanceGroup'] = pd.cut(\n",
        "    df['Distance'],\n",
        "    bins=[0, 500, 1000, 2000, 3000, 5000],\n",
        "    labels=['<500', '500–1000', '1000–2000', '2000–3000', '3000–5000']\n",
        ")\n",
        "\n",
        "# 9. # Define delay cause columns\n",
        "DelayCause = ['CarrierDelay', 'WeatherDelay', 'NASDelay', 'SecurityDelay', 'LateAircraftDelay']\n",
        "\n",
        "# 10. Reset DataFrame index to ensure clean row alignment\n",
        "df = df.reset_index(drop=True)\n",
        "\n",
        "# Verify structure after preprocessing\n",
        "df.info()\n",
        "df.shape"
      ],
      "metadata": {
        "id": "YcEdaqk-eyQQ"
      },
      "execution_count": null,
      "outputs": []
    },
    {
      "cell_type": "markdown",
      "source": [
        "## Data Preprocessing\n",
        "\n",
        "*Before visualizing flight delay trends, the dataset required preprocessing to ensure data analysis focuses only on valid, delayed flight records.*\n",
        "\n",
        "### 1. Removed redundant and irrelevant columns\n",
        "- The first column, `Unnamed: 0`, is an index column automatically generated during export and does not represent a meaningful feature.\n",
        "- Dropped `Year` since all records were from 2008 (constant value), offering no variance for analysis.\n",
        "- `FlightNum`, `TailNum`, and `CancellationCode` provide no meaningful information for data analysis of flight delays.\n",
        "\n",
        "### 2. Excluded cancelled or diverted flights\n",
        "- Removed flights where `Cancelled = 1` or `Diverted = 1`.  \n",
        "- These records do not have valid arrival/departure data, which is essential for delay analysis.\n",
        "- The focus of analysis is delayed flights, so this information is not relevant.\n",
        "\n",
        "### 3. Retained only records with complete delay-cause data\n",
        "- Filtered to include only rows where all five delay cause fields were present:  \n",
        "  `CarrierDelay`, `WeatherDelay`, `NASDelay`, `SecurityDelay`, `LateAircraftDelay`.  \n",
        "- This isolates the ~1.25 million delayed-flight subset that contains full delay-cause information — the focus of this data analysis.\n",
        "\n",
        "### 4. Filled missing delay-cause values with zero\n",
        "- Any remaining `NaN` values in delay-cause columns were replaced with `0`\n",
        "- NaN indicated *no delay* from that cause (e.g., `WeatherDelay`).\n",
        "\n",
        "### 5. Clipped negative arrival delay values\n",
        "- Negative values in `ArrDelay` represent early arrivals (e.g., `-109` = 109 minutes early).  \n",
        "- To focus purely on delays, these were clipped to `0`, indicating no delay.  \n",
        "- `DepDelay` contained no negative values, so no adjustment was required.\n",
        "\n",
        "### 6. Derived new time-based features\n",
        "- Created `DepHour` and `ArrHour` by converting scheduled departure/arrival times (e.g., `1530`) to hour bins (e.g., `15`).  \n",
        "- This facilitates later visualization of delay patterns by time of day.\n",
        "\n",
        "### 7. Converted arrival and departure delays from minutes to hours\n",
        "- Created two new columns, ArrDelayHours and DepDelayHours, by dividing the delay values (in minutes) by 60.\n",
        "- This transformation makes large delay durations easier to interpret (e.g., 180 minutes → 3.0 hours).\n",
        "- Both columns were stored as floating-point values (float64) to preserve precision for visualizations and calculations.\n",
        "\n",
        "### 8. Created distance categories (DistanceGroup)\n",
        "- Grouped flight distances (in miles) into five categories to simplify comparison across flight lengths.\n",
        "- The new DistanceGroup column was created using pd.cut() with the following bins and labels: <500, 500–1000, 1000–2000, 2000–3000, 3000–5000.\n",
        "- This grouping allows visualizations to explore whether longer flights are more or less prone to delays.\n",
        "\n",
        "### 9. Define delay causes\n",
        "- For consistent refernece in later analysis of flight delays.\n",
        "\n",
        "\n",
        "### 10. Reset DataFrame index\n",
        "- Reset the index after all filtering steps to maintain continuous row alignment."
      ],
      "metadata": {
        "id": "7TeENQfwAXq3"
      }
    },
    {
      "cell_type": "markdown",
      "source": [
        "### Preprocessing Summary\n",
        "After cleaning and filtering the dataset, the records were reduced from **1,936,758** total scheduled flights to **1,247,488** valid delayed-flight records.\n",
        "\n",
        "*This refined dataset now focuses exclusively on flights that experienced measurable delays, removing cancelled, diverted, or incomplete records.*\n",
        "- Dataset size reduced: from ~443 MB to ~277 MB\n",
        "- Features retained: 30 (including derived time-based and distance-group variables)\n",
        "- Delay cause completeness: All five causes (CarrierDelay, WeatherDelay, NASDelay, SecurityDelay, LateAircraftDelay) present for every record\n",
        "- Negative delay values clipped (early arrivals = 0 hours delay)\n",
        "- Delays converted from minutes to hours for interpretability\n",
        "- Added columns: DepHour, ArrHour, DepDelayHours, ArrDelayHours, DistanceGroup\n",
        "\n",
        "*The resulting dataset is now optimized for visual analysis of **when, why, and how long flights are delayed**, forming a clean basis for the dashboard visualizations.*\n"
      ],
      "metadata": {
        "id": "osmIiDUkzhvJ"
      }
    },
    {
      "cell_type": "code",
      "source": [
        "# PREPROCESSING — FULL FLIGHT DATA (df_all)\n",
        "# Includes all flights (on-time, cancelled, diverted)\n",
        "\n",
        "# 1. Fill NaNs in delay-cause columns with 0 (on-time flights)\n",
        "df_all[DelayCause] = df_all[DelayCause].fillna(0)\n",
        "\n",
        "# 2. Map cancellation codes (A–D) to delay categories\n",
        "cancel_map = {'A': 'CarrierDelay', 'B': 'WeatherDelay', 'C': 'NASDelay', 'D': 'SecurityDelay'}\n",
        "df_all['CancelMapped'] = df_all['CancellationCode'].map(cancel_map).fillna('Not Cancelled')\n",
        "\n",
        "# 3. Convert delay columns to hours for consistency\n",
        "df_all['ArrDelayHours'] = (df_all['ArrDelay'] / 60).astype('float64')\n",
        "df_all['DepDelayHours'] = (df_all['DepDelay'] / 60).astype('float64')\n",
        "df_all[DelayCause] = df_all[DelayCause] / 60\n",
        "\n",
        "# 4. Add departure and arrival hour columns if not already present\n",
        "df_all['DepHour'] = (df_all['DepTime'] // 100).astype('Int64')\n",
        "df_all['ArrHour'] = (df_all['ArrTime'] // 100).astype('Int64')\n",
        "\n",
        "df_all.info()"
      ],
      "metadata": {
        "id": "Ox10orKP-LO4"
      },
      "execution_count": null,
      "outputs": []
    },
    {
      "cell_type": "markdown",
      "source": [
        "## Review Dataset"
      ],
      "metadata": {
        "id": "tIBNe7UurznH"
      }
    },
    {
      "cell_type": "code",
      "source": [
        "# Basic summary statistics after preprocessing\n",
        "df.describe().T"
      ],
      "metadata": {
        "id": "HOCq7FqEux7E"
      },
      "execution_count": null,
      "outputs": []
    },
    {
      "cell_type": "code",
      "source": [
        "print(f\"Raw data shape: {df_raw.shape}\")\n",
        "print(f\"Delayed flight data shape: {df.shape}\")\n",
        "print(f\"All flight data shape: {df_all.shape}\")\n",
        "print(f\"Rows without delay-cause data: {df_raw.shape[0] - df.shape[0]:,}\")"
      ],
      "metadata": {
        "id": "c3drNLZzthuk"
      },
      "execution_count": null,
      "outputs": []
    },
    {
      "cell_type": "markdown",
      "source": [
        "## Investigate Dataset"
      ],
      "metadata": {
        "id": "lSUilzxb7FNJ"
      }
    },
    {
      "cell_type": "code",
      "source": [
        "# Number of delayed flights due to each cause?\n",
        "(df[['CarrierDelay','WeatherDelay','NASDelay','SecurityDelay','LateAircraftDelay']] > 0).sum()"
      ],
      "metadata": {
        "id": "a_CkJu5GafL1"
      },
      "execution_count": null,
      "outputs": []
    },
    {
      "cell_type": "code",
      "source": [
        "# Delays greater than 24 hours?\n",
        "(df['ArrDelay'] > 1440).sum(), (df['DepDelay'] > 1440).sum(), (df['CarrierDelay'] > 1440).sum()"
      ],
      "metadata": {
        "id": "4niH3obqLE9u"
      },
      "execution_count": null,
      "outputs": []
    },
    {
      "cell_type": "code",
      "source": [
        "# Number of Delayed Flights by Departure Hour?\n",
        "\n",
        "sns.set_style(\"whitegrid\")\n",
        "sns.set_palette(\"Blues_r\")\n",
        "\n",
        "# Count delayed flights per hour\n",
        "delays_by_hour = df['DepHour'].value_counts().sort_index().reset_index()\n",
        "delays_by_hour.columns = ['DepHour', 'DelayedFlights']\n",
        "\n",
        "# Bar chart\n",
        "plt.figure(figsize=(10,5))\n",
        "sns.barplot(data=delays_by_hour, x='DepHour', y='DelayedFlights')\n",
        "\n",
        "plt.title('Number of Delayed Flights by Departure Hour')\n",
        "plt.xlabel('Hour of Day (Departure)')\n",
        "plt.ylabel('Number of Delayed Flights')\n",
        "plt.xticks(range(0, 24))\n",
        "sns.despine()\n",
        "plt.tight_layout()\n",
        "plt.show()"
      ],
      "metadata": {
        "id": "cvXCz2STIqit"
      },
      "execution_count": null,
      "outputs": []
    },
    {
      "cell_type": "code",
      "source": [
        " Number of Delayed Flights by Arrival Hour?\n",
        "\n",
        "sns.set_style(\"whitegrid\")\n",
        "sns.set_palette(\"Blues_r\")\n",
        "\n",
        "# Count delayed flights per hour\n",
        "delays_by_hour = df['ArrHour'].value_counts().sort_index().reset_index()\n",
        "delays_by_hour.columns = ['ArrHour', 'DelayedFlights']\n",
        "\n",
        "# Bar chart\n",
        "plt.figure(figsize=(10,5))\n",
        "sns.barplot(data=delays_by_hour, x='ArrHour', y='DelayedFlights')\n",
        "\n",
        "plt.title('Number of Delayed Flights by Arrival Hour')\n",
        "plt.xlabel('Hour of Day (Arrival)')\n",
        "plt.ylabel('Number of Delayed Flights')\n",
        "plt.xticks(range(0, 24))\n",
        "sns.despine()\n",
        "plt.tight_layout()\n",
        "plt.show()"
      ],
      "metadata": {
        "id": "M1VYA20iyEL5"
      },
      "execution_count": null,
      "outputs": []
    },
    {
      "cell_type": "code",
      "source": [
        "plt.figure(figsize=(12,5))\n",
        "width = 0.4\n",
        "\n",
        "# Plot departure and arrival side-by-side instead of overlapping\n",
        "plt.bar(df.groupby('DepHour').size().index - width/2,\n",
        "        df.groupby('DepHour').size().values,\n",
        "        width=width, color='steelblue', label='Departure')\n",
        "\n",
        "plt.bar(df.groupby('ArrHour').size().index + width/2,\n",
        "        df.groupby('ArrHour').size().values,\n",
        "        width=width, color='lightblue', label='Arrival')\n",
        "\n",
        "# Visuals\n",
        "plt.title('Number of Delayed Flights by Hour (Departure vs Arrival)', weight='bold')\n",
        "plt.xlabel('Hour of Day')\n",
        "plt.ylabel('Number of Delayed Flights')\n",
        "plt.xticks(range(0, 24))\n",
        "plt.legend()\n",
        "plt.grid(alpha=0.3)\n",
        "plt.tight_layout()\n",
        "plt.show()"
      ],
      "metadata": {
        "id": "kC7VJXmIzaFq"
      },
      "execution_count": null,
      "outputs": []
    },
    {
      "cell_type": "code",
      "source": [
        "fig, axes = plt.subplots(1,2,figsize=(22,5), sharex=True)\n",
        "\n",
        "sns.barplot(x='DepHour', y='total_delays', data=hourly_stats,\n",
        "            color='skyblue', ax=axes[0])\n",
        "axes[0].set_title('Number of Delayed Flights by Hour')\n",
        "axes[0].set_ylabel('Number of Flights')\n",
        "\n",
        "sns.lineplot(x='DepHour', y='avg_delay', data=hourly_stats,\n",
        "             color='steelblue', marker='o', ax=axes[1])\n",
        "axes[1].set_title('Average Delay by Hour')\n",
        "axes[1].set_ylabel('Hours')\n",
        "\n",
        "for ax in axes:\n",
        "    ax.set_xlabel('Hour of Day (Departure)')\n",
        "    ax.set_xticks(range(0,24))\n",
        "sns.despine()\n",
        "plt.tight_layout()\n",
        "plt.show()"
      ],
      "metadata": {
        "id": "DHLqls1WawPe"
      },
      "execution_count": null,
      "outputs": []
    },
    {
      "cell_type": "code",
      "source": [
        "sns.set_style(\"whitegrid\")\n",
        "\n",
        "# Aggregate data by hour\n",
        "hourly_stats = df.groupby('DepHour').agg(\n",
        "    avg_delay=('ArrDelayHours', 'mean'),\n",
        "    total_delays=('ArrDelayHours', 'count')\n",
        ").reset_index()\n",
        "\n",
        "# Normalize both metrics to comparable scale\n",
        "hourly_stats['avg_delay_scaled'] = hourly_stats['avg_delay'] / hourly_stats['avg_delay'].max()\n",
        "hourly_stats['total_delays_scaled'] = (hourly_stats['total_delays'] / hourly_stats['total_delays'].max()) * -1\n",
        "\n",
        "plt.figure(figsize=(12,6))\n",
        "\n",
        "sns.barplot(data=hourly_stats, x='DepHour', y='total_delays_scaled',\n",
        "            color='steelblue', label='Number of Delayed Flights')\n",
        "sns.barplot(data=hourly_stats, x='DepHour', y='avg_delay_scaled',\n",
        "            color='skyblue', label='Average Delay Duration(Hours)')\n",
        "\n",
        "# Titles and labels\n",
        "plt.title('Opposing Trends: Flight Volume vs. Average Delay by Hour', weight='bold')\n",
        "plt.xlabel('Hour of Day (Departure)')\n",
        "plt.ylabel('')\n",
        "plt.yticks([])\n",
        "plt.legend(loc='upper right', fontsize=12)\n",
        "plt.show()"
      ],
      "metadata": {
        "id": "l2_9VopSPYq3"
      },
      "execution_count": null,
      "outputs": []
    },
    {
      "cell_type": "code",
      "source": [
        "sns.set_style(\"whitegrid\")\n",
        "\n",
        "plt.figure(figsize=(12,5))\n",
        "sns.boxplot(\n",
        "    data=df, x='DepHour', y='ArrDelayHours',\n",
        "    showfliers=False,\n",
        "    color='lightblue'\n",
        ")\n",
        "\n",
        "plt.title('Distribution of Arrival Delay Durations by Departure Hour', weight='bold')\n",
        "plt.xlabel('Hour of Day (Departure)')\n",
        "plt.ylabel('Arrival Delay Duration (Hours)')\n",
        "plt.tight_layout()\n",
        "plt.show()"
      ],
      "metadata": {
        "id": "tKCJwDKQQ3r1"
      },
      "execution_count": null,
      "outputs": []
    },
    {
      "cell_type": "code",
      "source": [
        "hourly_total = df.groupby('DepHour')['ArrDelayHours'].sum().reset_index()\n",
        "hourly_total['CumulativeDelay'] = hourly_total['ArrDelayHours'].cumsum()\n",
        "\n",
        "plt.figure(figsize=(9,5))\n",
        "sns.lineplot(data=hourly_total, x='DepHour', y='CumulativeDelay', color='steelblue', marker='o')\n",
        "plt.title('Cumulative Build-Up of Total Delay Hours Throughout the Day', weight='bold')\n",
        "plt.xlabel('Hour of Day (Departure)')\n",
        "plt.ylabel('Cumulative Delay (Hours)')\n",
        "plt.tight_layout()\n",
        "plt.show()"
      ],
      "metadata": {
        "id": "2R_hEp42ZkrY"
      },
      "execution_count": null,
      "outputs": []
    },
    {
      "cell_type": "code",
      "source": [
        "# Group by departure hour\n",
        "total_by_hour = df_all.groupby('DepHour').size().rename('TotalFlights')\n",
        "delayed_by_hour = df.groupby('DepHour').size().rename('DelayedFlights')\n",
        "\n",
        "# Merge into one table\n",
        "compare = pd.concat([total_by_hour, delayed_by_hour], axis=1).fillna(0)\n",
        "\n",
        "# Calculate percentage of flights delayed\n",
        "compare['PctDelayed'] = (compare['DelayedFlights'] / compare['TotalFlights']) * 100\n",
        "\n",
        "# Plot\n",
        "plt.figure(figsize=(12,6))\n",
        "plt.bar(compare.index, compare['PctDelayed'], color='steelblue')\n",
        "plt.title('Percentage of Flights Delayed by Hour of Departure', weight='bold')\n",
        "plt.xlabel('Hour of Day (Departure)')\n",
        "plt.ylabel('% of Flights Delayed')\n",
        "plt.xticks(range(0,25))\n",
        "plt.tight_layout()\n",
        "plt.show()\n",
        "\n",
        "# Summary stats\n",
        "overall_pct = (df.shape[0] / df_all.shape[0]) * 100\n",
        "print(f\"Overall, {overall_pct:.2f}% of all flights in the dataset experienced a delay.\")"
      ],
      "metadata": {
        "id": "GFZhGw17B3ZF"
      },
      "execution_count": null,
      "outputs": []
    },
    {
      "cell_type": "code",
      "source": [
        "# Group by departure hour\n",
        "total_by_hour = df_all.groupby('DepHour').size().rename('TotalFlights')\n",
        "delayed_by_hour = df.groupby('DepHour').size().rename('DelayedFlights')\n",
        "\n",
        "# Merge datasets\n",
        "compare = pd.concat([total_by_hour, delayed_by_hour], axis=1).fillna(0)\n",
        "\n",
        "# Plot both on same chart\n",
        "plt.figure(figsize=(12,6))\n",
        "plt.bar(compare.index - 0.2, compare['TotalFlights'], width=0.4, color='lightblue', label='Total Flights')\n",
        "plt.bar(compare.index + 0.2, compare['DelayedFlights'], width=0.4, color='steelblue', label='Delayed Flights')\n",
        "\n",
        "plt.title('Total vs Delayed Flights by Hour of Departure', weight='bold')\n",
        "plt.xlabel('Hour of Day (Departure)')\n",
        "plt.ylabel('Number of Flights')\n",
        "plt.xticks(range(0, 24))\n",
        "plt.legend()\n",
        "plt.tight_layout()\n",
        "plt.show()"
      ],
      "metadata": {
        "id": "2PVc8VXwEjy7"
      },
      "execution_count": null,
      "outputs": []
    },
    {
      "cell_type": "markdown",
      "source": [
        "Key Findings:\n",
        "- The majority of delayed flights occur during the daytime hours, reflecting the busiest hours for flight traffic.\n",
        "  - Arrival delays tend to peak slightly later in the day, showing how early departure delays cause downstream congestion by evening (delay propagation).\n",
        "- While most delays occur during the day, nighttime flights experience longer and more unpredictable delays. Low traffic volume at night means that the few delays that occur are often severe.\n",
        "- The flights with the greatest delays appear to occur during evening hours in visualizations, although this may be skewed because of how few delays there are in comparison to the daytime.\n",
        "- Daytime delays are compact (consistent short delays) while early/late hours have extreme variability."
      ],
      "metadata": {
        "id": "LyfLBy9qKtOi"
      }
    },
    {
      "cell_type": "markdown",
      "source": [
        "# **Visualization Dashboard**"
      ],
      "metadata": {
        "id": "jyQF567pr6IU"
      }
    },
    {
      "cell_type": "code",
      "source": [
        "# Average Arrival and Departure Delays by Hour\n",
        "\n",
        "# Create bar plot\n",
        "plt.figure(figsize=(12,6))\n",
        "df.groupby('DepHour')[['ArrDelayHours', 'DepDelayHours']].mean().plot(\n",
        "    kind='bar',\n",
        "    ax=plt.gca(),\n",
        "    width=0.8,\n",
        "    edgecolor='none'\n",
        ")\n",
        "\n",
        "# Titles and labels\n",
        "plt.title('Average Arrival and Departure Delays by Hour', weight='bold')\n",
        "plt.xlabel('Hour of Day (Departure)')\n",
        "plt.ylabel('Average Delay (Hours)')\n",
        "plt.legend(['Arrival Delay', 'Departure Delay'], title='Flight Delay')\n",
        "\n",
        "# Visuals\n",
        "sns.set_style(\"whitegrid\")\n",
        "sns.set_palette(\"Blues_r\")\n",
        "sns.despine()\n",
        "plt.tight_layout()\n",
        "plt.show()"
      ],
      "metadata": {
        "id": "kL2WA_7N9KjV"
      },
      "execution_count": null,
      "outputs": []
    },
    {
      "cell_type": "code",
      "source": [
        "# Aggregate key hourly metrics\n",
        "hourly = df.groupby('DepHour').agg(\n",
        "    total_delays=('ArrDelayHours', 'count'),\n",
        "    median_delay=('ArrDelayHours', 'median'),\n",
        "    q1=('ArrDelayHours', lambda x: x.quantile(0.25)),\n",
        "    q3=('ArrDelayHours', lambda x: x.quantile(0.75))\n",
        ").reset_index()\n",
        "\n",
        "fig, ax1 = plt.subplots(figsize=(12,6))\n",
        "\n",
        "# Bars for total delayed flights\n",
        "ax1.bar(hourly['DepHour'], hourly['total_delays'],\n",
        "        color='steelblue', label='Number of Delayed Flights')\n",
        "ax1.set_ylabel('Number of Delayed Flights', color='steelblue')\n",
        "ax1.tick_params(axis='y', labelcolor='steelblue')\n",
        "\n",
        "# Line for median delay (hours)\n",
        "ax2 = ax1.twinx()\n",
        "ax2.plot(hourly['DepHour'], hourly['median_delay'],\n",
        "         color='black', linewidth=2.5, marker='o', label='Median Delay (Hours)')\n",
        "ax2.fill_between(hourly['DepHour'],\n",
        "                 hourly['q1'], hourly['q3'],\n",
        "                 color='black', alpha=0.15, label='Delay Variability (IQR)')\n",
        "ax2.set_ylabel('Delay Duration (Hours)', color='black')\n",
        "ax2.tick_params(axis='y', labelcolor='black')\n",
        "\n",
        "# Visuals\n",
        "plt.title('Daily Flight Delays: Frequency vs Severity by Hour of Departure', weight='bold')\n",
        "ax1.set_xlabel('Hour of Day (Departure)')\n",
        "ax1.legend(loc='upper left')\n",
        "ax2.legend(loc='upper right')\n",
        "sns.set_style(\"white\")\n",
        "plt.tight_layout()\n",
        "plt.show()"
      ],
      "metadata": {
        "id": "JqN3A9gFdWzV"
      },
      "execution_count": null,
      "outputs": []
    },
    {
      "cell_type": "markdown",
      "source": [
        "## **Visualization 2**"
      ],
      "metadata": {
        "id": "_X1-K_Dds0GY"
      }
    },
    {
      "cell_type": "code",
      "source": [
        "# Average arrival delay by weekday and hour\n",
        "\n",
        "# Create pivot table\n",
        "pivot = df.pivot_table(\n",
        "    values='ArrDelayHours',\n",
        "    index='DepHour',       # rows = hour of day\n",
        "    columns='DayOfWeek',   # columns = day of week\n",
        "    aggfunc='mean'\n",
        ")\n",
        "\n",
        "# Rename day columns for clarity\n",
        "pivot.columns = ['Mon', 'Tue', 'Wed', 'Thu', 'Fri', 'Sat', 'Sun']\n",
        "\n",
        "# Plot heatmap\n",
        "plt.figure(figsize=(8,6))\n",
        "sns.heatmap(pivot, cmap='coolwarm', annot=False, cbar_kws={'label': 'Average Arrival Delay (hours)'})\n",
        "plt.title('Average Arrival Delay by Hour and Day of Week')\n",
        "plt.xlabel('Day of Week')\n",
        "plt.ylabel('Hour of Day')\n",
        "plt.show()"
      ],
      "metadata": {
        "id": "zky6WduTt1DZ"
      },
      "execution_count": null,
      "outputs": []
    },
    {
      "cell_type": "markdown",
      "source": [
        "## **Visualization 3**"
      ],
      "metadata": {
        "id": "aoN9u9ZCs0g-"
      }
    },
    {
      "cell_type": "code",
      "source": [
        "# Group delay causes by departure hour (values still in minutes)\n",
        "hourly_delays_hr = df.groupby('DepHour')[DelayCause].sum().reset_index()\n",
        "\n",
        "# Convert all delay cause totals from minutes to hours\n",
        "hourly_delays_hr[DelayCause] = hourly_delays_hr[DelayCause] / 60\n",
        "\n",
        "# Create interactive stacked area chart\n",
        "fig = px.area(\n",
        "    hourly_delays_hr,\n",
        "    x='DepHour',\n",
        "    y=DelayCause,\n",
        "    title='Hourly Distribution of Delay Causes',\n",
        "    labels={\n",
        "        'value': 'Total Delay (hours)',\n",
        "        'DepHour': 'Hour of Day (Departure)'\n",
        "    }\n",
        ")\n",
        "\n",
        "# Clean legend and axes formatting\n",
        "fig.update_layout(\n",
        "    legend_title_text='Cause of Delay',\n",
        "    xaxis=dict(\n",
        "        tickmode='linear',\n",
        "        dtick=1,  # show every hour (0–23)\n",
        "        title='Hour of Day (Departure)',\n",
        "        range=[0, 23]\n",
        "    ),\n",
        "    yaxis_title='Total Delay (hours)',\n",
        "    plot_bgcolor='white'\n",
        ")\n",
        "\n",
        "fig.show()"
      ],
      "metadata": {
        "id": "cVzkMjMY2mTn"
      },
      "execution_count": null,
      "outputs": []
    },
    {
      "cell_type": "markdown",
      "source": [
        "## **Visualization 4**"
      ],
      "metadata": {
        "id": "dRLiL9wvs08a"
      }
    },
    {
      "cell_type": "code",
      "source": [
        "# Average Arrival Delay by Month/Day\n",
        "\n",
        "# Pivot table: average arrival delay grouped by month and weekday\n",
        "pivot = df.pivot_table(\n",
        "    values='ArrDelayHours',\n",
        "    index='Month',        # months as rows\n",
        "    columns='DayOfWeek',  # weekdays as columns\n",
        "    aggfunc='mean'\n",
        ")\n",
        "\n",
        "# Replace numeric weekdays (1–7) with labels\n",
        "pivot.columns = ['Mon', 'Tue', 'Wed', 'Thu', 'Fri', 'Sat', 'Sun']\n",
        "\n",
        "# Replace numeric months (1–12) with short names\n",
        "month_labels = ['Jan', 'Feb', 'Mar', 'Apr', 'May', 'Jun',\n",
        "                'Jul', 'Aug', 'Sep', 'Oct', 'Nov', 'Dec']\n",
        "pivot.index = month_labels\n",
        "\n",
        "# Plot heatmap\n",
        "plt.figure(figsize=(9,6))\n",
        "sns.heatmap(pivot, cmap='Blues', annot=False, cbar_kws={'label': 'Avg Arrival Delay (hours)'})\n",
        "plt.title('Average Delay by Month and Day of Week')\n",
        "plt.xlabel('Day of Week')\n",
        "plt.ylabel('Month')\n",
        "plt.show()"
      ],
      "metadata": {
        "id": "YzMrivSot3dn"
      },
      "execution_count": null,
      "outputs": []
    },
    {
      "cell_type": "markdown",
      "source": [
        "Describe"
      ],
      "metadata": {
        "id": "02GJqJ3c6sED"
      }
    },
    {
      "cell_type": "markdown",
      "source": [
        "## **Visualization 5**"
      ],
      "metadata": {
        "id": "kbob_HGvs4GO"
      }
    },
    {
      "cell_type": "code",
      "source": [
        "# Delay Causes by Month\n",
        "\n",
        "# Sum delay causes by month (for all flights)\n",
        "monthly_cause = df_raw.groupby('Month')[['CarrierDelay', 'WeatherDelay', 'NASDelay', 'LateAircraftDelay']].sum()\n",
        "\n",
        "# Calculate percentage of total delay minutes\n",
        "monthly_percent = monthly_cause.div(monthly_cause.sum().sum(), axis=0) * 100\n",
        "\n",
        "# Convert month numbers to names\n",
        "monthly_percent = monthly_percent.reset_index()\n",
        "monthly_percent['Month'] = monthly_percent['Month'].replace({\n",
        "    1:'Jan', 2:'Feb', 3:'Mar', 4:'Apr', 5:'May', 6:'Jun',\n",
        "    7:'Jul', 8:'Aug', 9:'Sep', 10:'Oct', 11:'Nov', 12:'Dec'\n",
        "})\n",
        "\n",
        "# Plot\n",
        "fig = px.area(\n",
        "    monthly_percent,\n",
        "    x='Month',\n",
        "    y=['CarrierDelay', 'WeatherDelay', 'NASDelay', 'LateAircraftDelay'],\n",
        "    title='Delay Causes by Month',\n",
        "    labels={'value':'% of Total Delay Minutes', 'variable':'Delay Cause'}\n",
        ")\n",
        "\n",
        "fig.show()"
      ],
      "metadata": {
        "id": "VDJV5egRt6ZS"
      },
      "execution_count": null,
      "outputs": []
    },
    {
      "cell_type": "markdown",
      "source": [
        "## **Visualisation 6**"
      ],
      "metadata": {
        "id": "MFzQjNqygAqF"
      }
    },
    {
      "cell_type": "code",
      "source": [
        "# Average Delays by Airline\n",
        "avg_delay_carrier = df.groupby('UniqueCarrier')[['ArrDelay','DepDelay']].mean().sort_values('ArrDelay', ascending=False)\n",
        "avg_delay_carrier.plot(kind='bar', figsize=(10,6))\n",
        "plt.title(\"Average Arrival & Departure Delays by Airline\")\n",
        "plt.ylabel(\"Arrival/Departure Delay (minutes)\")\n",
        "plt.show()"
      ],
      "metadata": {
        "id": "4K8yfvx0gLVR"
      },
      "execution_count": null,
      "outputs": []
    }
  ]
}